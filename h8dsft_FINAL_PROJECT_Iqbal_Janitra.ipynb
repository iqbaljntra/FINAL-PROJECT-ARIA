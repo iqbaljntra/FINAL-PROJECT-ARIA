{
 "cells": [
  {
   "attachments": {},
   "cell_type": "markdown",
   "metadata": {},
   "source": [
    "# FINAL PROJECT ARIA DATA SET PLANT NUTRITIONAL PREDICTION\n",
    "\n",
    "### Name : Iqbal Janitra\n",
    "\n",
    "### Batch : 003 \n",
    "\n",
    "Link Deployment Huggingface : https://huggingface.co/spaces/Iqbaljanitra/Finalprojectariadataset\n",
    "\n",
    "Link Tableau : https://public.tableau.com/app/profile/iqbal6468/viz/FINALPROJECTARIADATASET/Dashboard1?publish=yes"
   ]
  },
  {
   "attachments": {},
   "cell_type": "markdown",
   "metadata": {},
   "source": [
    "# IMPORT LIBRARIES"
   ]
  },
  {
   "cell_type": "code",
   "execution_count": 1107,
   "metadata": {},
   "outputs": [],
   "source": [
    "import pandas as pd\n",
    "import numpy as np\n",
    "import matplotlib.pyplot as plt\n",
    "import seaborn as sns\n",
    "import joblib\n",
    "from sklearn.model_selection import GridSearchCV, train_test_split, RandomizedSearchCV\n",
    "from sklearn.linear_model import LinearRegression\n",
    "from sklearn.ensemble import RandomForestRegressor, GradientBoostingRegressor\n",
    "from sklearn.svm import SVR\n",
    "from sklearn.tree import DecisionTreeRegressor\n",
    "from sklearn.preprocessing import StandardScaler, OrdinalEncoder\n",
    "from sklearn.neighbors import KNeighborsRegressor\n",
    "from sdv.tabular import GaussianCopula\n",
    "from sklearn.naive_bayes import GaussianNB\n",
    "from sklearn.metrics import mean_absolute_error, r2_score\n",
    "from phik import resources, report\n",
    "from phik.report import plot_correlation_matrix\n",
    "from sklearn.pipeline import Pipeline\n",
    "from sklearn.compose import ColumnTransformer\n",
    "import csv\n",
    "import warnings\n",
    "warnings.filterwarnings(action='ignore')\n"
   ]
  },
  {
   "attachments": {},
   "cell_type": "markdown",
   "metadata": {},
   "source": [
    "# PROBLEM STATEMENT"
   ]
  },
  {
   "attachments": {},
   "cell_type": "markdown",
   "metadata": {},
   "source": [
    "The problem statement is to develop a prediction model for `plant nutritional` data obtained from a test lab. The goal is to create a `model` that accurately predicts the nutrient levels of plants based on various input features, such as `v1, v2, v3, v4, v5, v6, v7, and v8`, which represent hidden variables related to soil quality, climate, and other environmental factors. `The model should be able to explore and analyze the dataset`, `cleanse and manipulate` the data as required, and use appropriate algorithms and methodologies to develop the prediction model. Additionally, the model should be evaluated and improved as necessary to ensure accuracy and reliability. The ultimate aim is to develop a tool that can be used to `optimize plant growth` and yield by providing insights into the `nutritional needs` of plants based on `these hidden features.`"
   ]
  },
  {
   "attachments": {},
   "cell_type": "markdown",
   "metadata": {},
   "source": [
    "# DATA LOADING"
   ]
  },
  {
   "cell_type": "code",
   "execution_count": 1106,
   "metadata": {},
   "outputs": [],
   "source": [
    "df = pd.read_excel('dataset/aria_data.xlsx')"
   ]
  },
  {
   "cell_type": "code",
   "execution_count": 1083,
   "metadata": {},
   "outputs": [
    {
     "data": {
      "text/plain": [
       "(160, 10)"
      ]
     },
     "execution_count": 1083,
     "metadata": {},
     "output_type": "execute_result"
    }
   ],
   "source": [
    "df.shape"
   ]
  },
  {
   "cell_type": "code",
   "execution_count": 1084,
   "metadata": {},
   "outputs": [
    {
     "data": {
      "text/html": [
       "<div>\n",
       "<style scoped>\n",
       "    .dataframe tbody tr th:only-of-type {\n",
       "        vertical-align: middle;\n",
       "    }\n",
       "\n",
       "    .dataframe tbody tr th {\n",
       "        vertical-align: top;\n",
       "    }\n",
       "\n",
       "    .dataframe thead th {\n",
       "        text-align: right;\n",
       "    }\n",
       "</style>\n",
       "<table border=\"1\" class=\"dataframe\">\n",
       "  <thead>\n",
       "    <tr style=\"text-align: right;\">\n",
       "      <th></th>\n",
       "      <th>target</th>\n",
       "      <th>v1</th>\n",
       "      <th>v2</th>\n",
       "      <th>v3</th>\n",
       "      <th>v4</th>\n",
       "      <th>v5</th>\n",
       "      <th>v6</th>\n",
       "      <th>v7</th>\n",
       "      <th>v8</th>\n",
       "      <th>sample_type</th>\n",
       "    </tr>\n",
       "  </thead>\n",
       "  <tbody>\n",
       "    <tr>\n",
       "      <th>0</th>\n",
       "      <td>4.63</td>\n",
       "      <td>260.600000</td>\n",
       "      <td>199.000000</td>\n",
       "      <td>391.333333</td>\n",
       "      <td>371.733333</td>\n",
       "      <td>466.800000</td>\n",
       "      <td>273.133333</td>\n",
       "      <td>742.066667</td>\n",
       "      <td>4047.733333</td>\n",
       "      <td>lab 1</td>\n",
       "    </tr>\n",
       "    <tr>\n",
       "      <th>1</th>\n",
       "      <td>5.00</td>\n",
       "      <td>263.200000</td>\n",
       "      <td>194.600000</td>\n",
       "      <td>393.666667</td>\n",
       "      <td>348.533333</td>\n",
       "      <td>401.800000</td>\n",
       "      <td>220.066667</td>\n",
       "      <td>712.000000</td>\n",
       "      <td>4673.466667</td>\n",
       "      <td>lab 1</td>\n",
       "    </tr>\n",
       "    <tr>\n",
       "      <th>2</th>\n",
       "      <td>4.91</td>\n",
       "      <td>247.266667</td>\n",
       "      <td>205.800000</td>\n",
       "      <td>375.466667</td>\n",
       "      <td>354.866667</td>\n",
       "      <td>419.000000</td>\n",
       "      <td>222.133333</td>\n",
       "      <td>677.200000</td>\n",
       "      <td>4386.800000</td>\n",
       "      <td>lab 1</td>\n",
       "    </tr>\n",
       "    <tr>\n",
       "      <th>3</th>\n",
       "      <td>4.77</td>\n",
       "      <td>257.944444</td>\n",
       "      <td>191.833333</td>\n",
       "      <td>368.722222</td>\n",
       "      <td>334.666667</td>\n",
       "      <td>417.222222</td>\n",
       "      <td>195.944444</td>\n",
       "      <td>678.555556</td>\n",
       "      <td>4588.777778</td>\n",
       "      <td>lab 1</td>\n",
       "    </tr>\n",
       "    <tr>\n",
       "      <th>4</th>\n",
       "      <td>4.89</td>\n",
       "      <td>258.200000</td>\n",
       "      <td>195.733333</td>\n",
       "      <td>356.666667</td>\n",
       "      <td>333.333333</td>\n",
       "      <td>394.600000</td>\n",
       "      <td>196.000000</td>\n",
       "      <td>677.133333</td>\n",
       "      <td>4867.066667</td>\n",
       "      <td>lab 1</td>\n",
       "    </tr>\n",
       "  </tbody>\n",
       "</table>\n",
       "</div>"
      ],
      "text/plain": [
       "   target          v1          v2          v3          v4          v5  \\\n",
       "0    4.63  260.600000  199.000000  391.333333  371.733333  466.800000   \n",
       "1    5.00  263.200000  194.600000  393.666667  348.533333  401.800000   \n",
       "2    4.91  247.266667  205.800000  375.466667  354.866667  419.000000   \n",
       "3    4.77  257.944444  191.833333  368.722222  334.666667  417.222222   \n",
       "4    4.89  258.200000  195.733333  356.666667  333.333333  394.600000   \n",
       "\n",
       "           v6          v7           v8 sample_type  \n",
       "0  273.133333  742.066667  4047.733333       lab 1  \n",
       "1  220.066667  712.000000  4673.466667       lab 1  \n",
       "2  222.133333  677.200000  4386.800000       lab 1  \n",
       "3  195.944444  678.555556  4588.777778       lab 1  \n",
       "4  196.000000  677.133333  4867.066667       lab 1  "
      ]
     },
     "execution_count": 1084,
     "metadata": {},
     "output_type": "execute_result"
    }
   ],
   "source": [
    "df.head()"
   ]
  },
  {
   "cell_type": "code",
   "execution_count": 1085,
   "metadata": {},
   "outputs": [
    {
     "data": {
      "text/html": [
       "<div>\n",
       "<style scoped>\n",
       "    .dataframe tbody tr th:only-of-type {\n",
       "        vertical-align: middle;\n",
       "    }\n",
       "\n",
       "    .dataframe tbody tr th {\n",
       "        vertical-align: top;\n",
       "    }\n",
       "\n",
       "    .dataframe thead th {\n",
       "        text-align: right;\n",
       "    }\n",
       "</style>\n",
       "<table border=\"1\" class=\"dataframe\">\n",
       "  <thead>\n",
       "    <tr style=\"text-align: right;\">\n",
       "      <th></th>\n",
       "      <th>target</th>\n",
       "      <th>v1</th>\n",
       "      <th>v2</th>\n",
       "      <th>v3</th>\n",
       "      <th>v4</th>\n",
       "      <th>v5</th>\n",
       "      <th>v6</th>\n",
       "      <th>v7</th>\n",
       "      <th>v8</th>\n",
       "      <th>sample_type</th>\n",
       "    </tr>\n",
       "  </thead>\n",
       "  <tbody>\n",
       "    <tr>\n",
       "      <th>155</th>\n",
       "      <td>4.83</td>\n",
       "      <td>573.2500</td>\n",
       "      <td>361.250000</td>\n",
       "      <td>643.125000</td>\n",
       "      <td>489.812500</td>\n",
       "      <td>666.875</td>\n",
       "      <td>355.250000</td>\n",
       "      <td>712.312500</td>\n",
       "      <td>3943.687500</td>\n",
       "      <td>lab 2</td>\n",
       "    </tr>\n",
       "    <tr>\n",
       "      <th>156</th>\n",
       "      <td>4.47</td>\n",
       "      <td>678.3750</td>\n",
       "      <td>398.125000</td>\n",
       "      <td>678.250000</td>\n",
       "      <td>541.125000</td>\n",
       "      <td>704.000</td>\n",
       "      <td>393.500000</td>\n",
       "      <td>788.812500</td>\n",
       "      <td>3928.187500</td>\n",
       "      <td>lab 2</td>\n",
       "    </tr>\n",
       "    <tr>\n",
       "      <th>157</th>\n",
       "      <td>4.63</td>\n",
       "      <td>634.0000</td>\n",
       "      <td>382.866667</td>\n",
       "      <td>657.466667</td>\n",
       "      <td>505.066667</td>\n",
       "      <td>719.200</td>\n",
       "      <td>366.600000</td>\n",
       "      <td>792.133333</td>\n",
       "      <td>3861.200000</td>\n",
       "      <td>lab 2</td>\n",
       "    </tr>\n",
       "    <tr>\n",
       "      <th>158</th>\n",
       "      <td>4.35</td>\n",
       "      <td>615.3125</td>\n",
       "      <td>366.750000</td>\n",
       "      <td>642.937500</td>\n",
       "      <td>483.687500</td>\n",
       "      <td>675.625</td>\n",
       "      <td>359.062500</td>\n",
       "      <td>730.125000</td>\n",
       "      <td>3859.062500</td>\n",
       "      <td>lab 2</td>\n",
       "    </tr>\n",
       "    <tr>\n",
       "      <th>159</th>\n",
       "      <td>4.43</td>\n",
       "      <td>575.2000</td>\n",
       "      <td>350.266667</td>\n",
       "      <td>648.333333</td>\n",
       "      <td>495.400000</td>\n",
       "      <td>679.800</td>\n",
       "      <td>346.266667</td>\n",
       "      <td>718.733333</td>\n",
       "      <td>3903.333333</td>\n",
       "      <td>lab 2</td>\n",
       "    </tr>\n",
       "  </tbody>\n",
       "</table>\n",
       "</div>"
      ],
      "text/plain": [
       "     target        v1          v2          v3          v4       v5  \\\n",
       "155    4.83  573.2500  361.250000  643.125000  489.812500  666.875   \n",
       "156    4.47  678.3750  398.125000  678.250000  541.125000  704.000   \n",
       "157    4.63  634.0000  382.866667  657.466667  505.066667  719.200   \n",
       "158    4.35  615.3125  366.750000  642.937500  483.687500  675.625   \n",
       "159    4.43  575.2000  350.266667  648.333333  495.400000  679.800   \n",
       "\n",
       "             v6          v7           v8 sample_type  \n",
       "155  355.250000  712.312500  3943.687500       lab 2  \n",
       "156  393.500000  788.812500  3928.187500       lab 2  \n",
       "157  366.600000  792.133333  3861.200000       lab 2  \n",
       "158  359.062500  730.125000  3859.062500       lab 2  \n",
       "159  346.266667  718.733333  3903.333333       lab 2  "
      ]
     },
     "execution_count": 1085,
     "metadata": {},
     "output_type": "execute_result"
    }
   ],
   "source": [
    "df.tail()"
   ]
  },
  {
   "cell_type": "code",
   "execution_count": 1086,
   "metadata": {},
   "outputs": [
    {
     "name": "stdout",
     "output_type": "stream",
     "text": [
      "<class 'pandas.core.frame.DataFrame'>\n",
      "RangeIndex: 160 entries, 0 to 159\n",
      "Data columns (total 10 columns):\n",
      " #   Column       Non-Null Count  Dtype  \n",
      "---  ------       --------------  -----  \n",
      " 0   target       160 non-null    float64\n",
      " 1   v1           160 non-null    float64\n",
      " 2   v2           160 non-null    float64\n",
      " 3   v3           160 non-null    float64\n",
      " 4   v4           160 non-null    float64\n",
      " 5   v5           160 non-null    float64\n",
      " 6   v6           160 non-null    float64\n",
      " 7   v7           160 non-null    float64\n",
      " 8   v8           160 non-null    float64\n",
      " 9   sample_type  160 non-null    object \n",
      "dtypes: float64(9), object(1)\n",
      "memory usage: 12.6+ KB\n"
     ]
    }
   ],
   "source": [
    "df.info()"
   ]
  },
  {
   "attachments": {},
   "cell_type": "markdown",
   "metadata": {},
   "source": [
    "# DATA CLEANING"
   ]
  },
  {
   "attachments": {},
   "cell_type": "markdown",
   "metadata": {},
   "source": [
    "## Scale-Up Data"
   ]
  },
  {
   "attachments": {},
   "cell_type": "markdown",
   "metadata": {},
   "source": [
    "### CAUTION\n",
    "\n",
    "`now i use manipulated data, this step changes the original data to fake data with changed the data volume or scale up data to 500` This approach can be useful for generating synthetic data that can be used for `testing and validating` prediction models without exposing `real data` to potential `privacy concerns`. However, it is important to note that the `synthetic data generated using this method may not capture all the nuances and complexities of the real data`, and should be used with `caution.`"
   ]
  },
  {
   "attachments": {},
   "cell_type": "markdown",
   "metadata": {},
   "source": [
    "The code above is an example of how to use the `GaussianCopula class` from the copulas library in Python to `generate synthetic data` based on a `multivariate Gaussian distribution.`\n",
    "\n",
    "Here is a breakdown of the code:\n",
    "\n",
    "1. `GaussianCopula()` - create a new `GaussianCopula` object to model the data.\n",
    "2. `model.fit(df)` - fit the model to the original data df. This step estimates the parameters of the multivariate Gaussian distribution based on the empirical distribution of the input data.\n",
    "3. `df = model.sample(500)` - `generate 500 new synthetic samples` from the fitted Gaussian distribution using the sample() method of the GaussianCopula object. The new samples will have the same dimensionality and marginal distributions as the original data, but the joint distribution will be modeled based on the fitted Gaussian distribution.\n",
    "4. `df.to_csv('synthetic_data1.csv', index=False)` - save the new synthetic data to a CSV file named `synthetic_data1.csv`, without including the row index."
   ]
  },
  {
   "cell_type": "code",
   "execution_count": 736,
   "metadata": {},
   "outputs": [],
   "source": [
    "#create a GaussianCopula object with a dimension of 2\n",
    "model = GaussianCopula()\n",
    "\n",
    "#fit the model to your original data\n",
    "model.fit(df)\n",
    "\n",
    "# generate new samples\n",
    "df = model.sample(500)\n",
    "\n",
    "#save the synthetic data to a CSV file\n",
    "df.to_csv('synthetic_data12.csv', index=False)"
   ]
  },
  {
   "cell_type": "code",
   "execution_count": 909,
   "metadata": {},
   "outputs": [
    {
     "data": {
      "text/plain": [
       "target         500\n",
       "v1             500\n",
       "v2             500\n",
       "v3             500\n",
       "v4             500\n",
       "v5             500\n",
       "v6             500\n",
       "v7             500\n",
       "v8             500\n",
       "sample_type      2\n",
       "dtype: int64"
      ]
     },
     "execution_count": 909,
     "metadata": {},
     "output_type": "execute_result"
    }
   ],
   "source": [
    "df.nunique()"
   ]
  },
  {
   "cell_type": "code",
   "execution_count": 1073,
   "metadata": {},
   "outputs": [
    {
     "data": {
      "text/html": [
       "<div>\n",
       "<style scoped>\n",
       "    .dataframe tbody tr th:only-of-type {\n",
       "        vertical-align: middle;\n",
       "    }\n",
       "\n",
       "    .dataframe tbody tr th {\n",
       "        vertical-align: top;\n",
       "    }\n",
       "\n",
       "    .dataframe thead th {\n",
       "        text-align: right;\n",
       "    }\n",
       "</style>\n",
       "<table border=\"1\" class=\"dataframe\">\n",
       "  <thead>\n",
       "    <tr style=\"text-align: right;\">\n",
       "      <th></th>\n",
       "      <th>target</th>\n",
       "      <th>v1</th>\n",
       "      <th>v2</th>\n",
       "      <th>v3</th>\n",
       "      <th>v4</th>\n",
       "      <th>v5</th>\n",
       "      <th>v6</th>\n",
       "      <th>v7</th>\n",
       "      <th>v8</th>\n",
       "      <th>sample_type</th>\n",
       "    </tr>\n",
       "  </thead>\n",
       "  <tbody>\n",
       "    <tr>\n",
       "      <th>0</th>\n",
       "      <td>4.535422</td>\n",
       "      <td>403.413714</td>\n",
       "      <td>250.127634</td>\n",
       "      <td>484.195849</td>\n",
       "      <td>356.232461</td>\n",
       "      <td>448.176935</td>\n",
       "      <td>201.106119</td>\n",
       "      <td>537.812323</td>\n",
       "      <td>4002.042143</td>\n",
       "      <td>lab 2</td>\n",
       "    </tr>\n",
       "    <tr>\n",
       "      <th>1</th>\n",
       "      <td>4.545924</td>\n",
       "      <td>430.624469</td>\n",
       "      <td>255.479308</td>\n",
       "      <td>614.729298</td>\n",
       "      <td>393.143663</td>\n",
       "      <td>567.554734</td>\n",
       "      <td>232.024341</td>\n",
       "      <td>681.065681</td>\n",
       "      <td>4087.668929</td>\n",
       "      <td>lab 1</td>\n",
       "    </tr>\n",
       "    <tr>\n",
       "      <th>2</th>\n",
       "      <td>4.908784</td>\n",
       "      <td>288.772590</td>\n",
       "      <td>265.352161</td>\n",
       "      <td>482.119506</td>\n",
       "      <td>357.923501</td>\n",
       "      <td>420.674889</td>\n",
       "      <td>241.778579</td>\n",
       "      <td>504.809867</td>\n",
       "      <td>4245.634578</td>\n",
       "      <td>lab 1</td>\n",
       "    </tr>\n",
       "    <tr>\n",
       "      <th>3</th>\n",
       "      <td>4.592022</td>\n",
       "      <td>323.337432</td>\n",
       "      <td>255.768840</td>\n",
       "      <td>567.451833</td>\n",
       "      <td>347.661078</td>\n",
       "      <td>469.750459</td>\n",
       "      <td>247.606170</td>\n",
       "      <td>563.700550</td>\n",
       "      <td>4092.301440</td>\n",
       "      <td>lab 1</td>\n",
       "    </tr>\n",
       "    <tr>\n",
       "      <th>4</th>\n",
       "      <td>5.071755</td>\n",
       "      <td>322.092781</td>\n",
       "      <td>289.931072</td>\n",
       "      <td>469.933553</td>\n",
       "      <td>366.286832</td>\n",
       "      <td>480.229382</td>\n",
       "      <td>269.216169</td>\n",
       "      <td>576.275258</td>\n",
       "      <td>4638.897153</td>\n",
       "      <td>lab 1</td>\n",
       "    </tr>\n",
       "    <tr>\n",
       "      <th>...</th>\n",
       "      <td>...</td>\n",
       "      <td>...</td>\n",
       "      <td>...</td>\n",
       "      <td>...</td>\n",
       "      <td>...</td>\n",
       "      <td>...</td>\n",
       "      <td>...</td>\n",
       "      <td>...</td>\n",
       "      <td>...</td>\n",
       "      <td>...</td>\n",
       "    </tr>\n",
       "    <tr>\n",
       "      <th>495</th>\n",
       "      <td>4.589430</td>\n",
       "      <td>489.929433</td>\n",
       "      <td>276.907677</td>\n",
       "      <td>488.425065</td>\n",
       "      <td>404.577772</td>\n",
       "      <td>526.338130</td>\n",
       "      <td>213.742037</td>\n",
       "      <td>584.820145</td>\n",
       "      <td>4153.615153</td>\n",
       "      <td>lab 2</td>\n",
       "    </tr>\n",
       "    <tr>\n",
       "      <th>496</th>\n",
       "      <td>4.579692</td>\n",
       "      <td>472.371380</td>\n",
       "      <td>266.903674</td>\n",
       "      <td>541.036883</td>\n",
       "      <td>433.160238</td>\n",
       "      <td>472.360165</td>\n",
       "      <td>218.094281</td>\n",
       "      <td>524.844628</td>\n",
       "      <td>4003.555117</td>\n",
       "      <td>lab 2</td>\n",
       "    </tr>\n",
       "    <tr>\n",
       "      <th>497</th>\n",
       "      <td>4.780746</td>\n",
       "      <td>349.266008</td>\n",
       "      <td>289.452732</td>\n",
       "      <td>501.465107</td>\n",
       "      <td>386.935724</td>\n",
       "      <td>486.368360</td>\n",
       "      <td>238.570076</td>\n",
       "      <td>540.409289</td>\n",
       "      <td>4341.790983</td>\n",
       "      <td>lab 2</td>\n",
       "    </tr>\n",
       "    <tr>\n",
       "      <th>498</th>\n",
       "      <td>4.710649</td>\n",
       "      <td>396.557214</td>\n",
       "      <td>285.854424</td>\n",
       "      <td>585.416025</td>\n",
       "      <td>398.807060</td>\n",
       "      <td>504.375138</td>\n",
       "      <td>291.289756</td>\n",
       "      <td>560.416821</td>\n",
       "      <td>4287.816354</td>\n",
       "      <td>lab 2</td>\n",
       "    </tr>\n",
       "    <tr>\n",
       "      <th>499</th>\n",
       "      <td>4.707853</td>\n",
       "      <td>403.762184</td>\n",
       "      <td>278.989795</td>\n",
       "      <td>515.745701</td>\n",
       "      <td>344.962646</td>\n",
       "      <td>550.231941</td>\n",
       "      <td>224.677747</td>\n",
       "      <td>611.368824</td>\n",
       "      <td>4184.846930</td>\n",
       "      <td>lab 1</td>\n",
       "    </tr>\n",
       "  </tbody>\n",
       "</table>\n",
       "<p>500 rows × 10 columns</p>\n",
       "</div>"
      ],
      "text/plain": [
       "       target          v1          v2          v3          v4          v5  \\\n",
       "0    4.535422  403.413714  250.127634  484.195849  356.232461  448.176935   \n",
       "1    4.545924  430.624469  255.479308  614.729298  393.143663  567.554734   \n",
       "2    4.908784  288.772590  265.352161  482.119506  357.923501  420.674889   \n",
       "3    4.592022  323.337432  255.768840  567.451833  347.661078  469.750459   \n",
       "4    5.071755  322.092781  289.931072  469.933553  366.286832  480.229382   \n",
       "..        ...         ...         ...         ...         ...         ...   \n",
       "495  4.589430  489.929433  276.907677  488.425065  404.577772  526.338130   \n",
       "496  4.579692  472.371380  266.903674  541.036883  433.160238  472.360165   \n",
       "497  4.780746  349.266008  289.452732  501.465107  386.935724  486.368360   \n",
       "498  4.710649  396.557214  285.854424  585.416025  398.807060  504.375138   \n",
       "499  4.707853  403.762184  278.989795  515.745701  344.962646  550.231941   \n",
       "\n",
       "             v6          v7           v8 sample_type  \n",
       "0    201.106119  537.812323  4002.042143       lab 2  \n",
       "1    232.024341  681.065681  4087.668929       lab 1  \n",
       "2    241.778579  504.809867  4245.634578       lab 1  \n",
       "3    247.606170  563.700550  4092.301440       lab 1  \n",
       "4    269.216169  576.275258  4638.897153       lab 1  \n",
       "..          ...         ...          ...         ...  \n",
       "495  213.742037  584.820145  4153.615153       lab 2  \n",
       "496  218.094281  524.844628  4003.555117       lab 2  \n",
       "497  238.570076  540.409289  4341.790983       lab 2  \n",
       "498  291.289756  560.416821  4287.816354       lab 2  \n",
       "499  224.677747  611.368824  4184.846930       lab 1  \n",
       "\n",
       "[500 rows x 10 columns]"
      ]
     },
     "execution_count": 1073,
     "metadata": {},
     "output_type": "execute_result"
    }
   ],
   "source": [
    "df"
   ]
  },
  {
   "attachments": {},
   "cell_type": "markdown",
   "metadata": {},
   "source": [
    "the number of missing values (NaN) in each column of a Pandas DataFrame df. The isnull() method returns a Boolean mask of the same shape as the input DataFrame, The output shows that there are no missing values in any of the columns of the DataFrame. The 0 values indicate that there are zero missing values in each column. This is a good sign as missing values can affect the accuracy and reliability of the prediction model, and therefore it is important to handle them appropriately."
   ]
  },
  {
   "cell_type": "code",
   "execution_count": 910,
   "metadata": {},
   "outputs": [
    {
     "data": {
      "text/plain": [
       "target         0\n",
       "v1             0\n",
       "v2             0\n",
       "v3             0\n",
       "v4             0\n",
       "v5             0\n",
       "v6             0\n",
       "v7             0\n",
       "v8             0\n",
       "sample_type    0\n",
       "dtype: int64"
      ]
     },
     "execution_count": 910,
     "metadata": {},
     "output_type": "execute_result"
    }
   ],
   "source": [
    "df.isnull().sum()"
   ]
  },
  {
   "attachments": {},
   "cell_type": "markdown",
   "metadata": {},
   "source": [
    " checks for duplicate rows in a Pandas DataFrame df and returns the count of unique and duplicated rows. the output of `df.duplicated().value_counts()` is False `160`, it means that there are `no duplicated` rows in the DataFrame."
   ]
  },
  {
   "cell_type": "code",
   "execution_count": 911,
   "metadata": {},
   "outputs": [
    {
     "data": {
      "text/plain": [
       "False    500\n",
       "dtype: int64"
      ]
     },
     "execution_count": 911,
     "metadata": {},
     "output_type": "execute_result"
    }
   ],
   "source": [
    "df.duplicated().value_counts()"
   ]
  },
  {
   "attachments": {},
   "cell_type": "markdown",
   "metadata": {},
   "source": [
    "This is the look the dataframe we have done manipulate"
   ]
  },
  {
   "cell_type": "code",
   "execution_count": 1017,
   "metadata": {},
   "outputs": [
    {
     "data": {
      "text/html": [
       "<div>\n",
       "<style scoped>\n",
       "    .dataframe tbody tr th:only-of-type {\n",
       "        vertical-align: middle;\n",
       "    }\n",
       "\n",
       "    .dataframe tbody tr th {\n",
       "        vertical-align: top;\n",
       "    }\n",
       "\n",
       "    .dataframe thead th {\n",
       "        text-align: right;\n",
       "    }\n",
       "</style>\n",
       "<table border=\"1\" class=\"dataframe\">\n",
       "  <thead>\n",
       "    <tr style=\"text-align: right;\">\n",
       "      <th></th>\n",
       "      <th>target</th>\n",
       "      <th>v1</th>\n",
       "      <th>v2</th>\n",
       "      <th>v3</th>\n",
       "      <th>v4</th>\n",
       "      <th>v5</th>\n",
       "      <th>v6</th>\n",
       "      <th>v7</th>\n",
       "      <th>v8</th>\n",
       "      <th>sample_type</th>\n",
       "    </tr>\n",
       "  </thead>\n",
       "  <tbody>\n",
       "    <tr>\n",
       "      <th>0</th>\n",
       "      <td>4.535422</td>\n",
       "      <td>403.413714</td>\n",
       "      <td>250.127634</td>\n",
       "      <td>484.195849</td>\n",
       "      <td>356.232461</td>\n",
       "      <td>448.176935</td>\n",
       "      <td>201.106119</td>\n",
       "      <td>537.812323</td>\n",
       "      <td>4002.042143</td>\n",
       "      <td>lab 2</td>\n",
       "    </tr>\n",
       "    <tr>\n",
       "      <th>1</th>\n",
       "      <td>4.545924</td>\n",
       "      <td>430.624469</td>\n",
       "      <td>255.479308</td>\n",
       "      <td>614.729298</td>\n",
       "      <td>393.143663</td>\n",
       "      <td>567.554734</td>\n",
       "      <td>232.024341</td>\n",
       "      <td>681.065681</td>\n",
       "      <td>4087.668929</td>\n",
       "      <td>lab 1</td>\n",
       "    </tr>\n",
       "    <tr>\n",
       "      <th>2</th>\n",
       "      <td>4.908784</td>\n",
       "      <td>288.772590</td>\n",
       "      <td>265.352161</td>\n",
       "      <td>482.119506</td>\n",
       "      <td>357.923501</td>\n",
       "      <td>420.674889</td>\n",
       "      <td>241.778579</td>\n",
       "      <td>504.809867</td>\n",
       "      <td>4245.634578</td>\n",
       "      <td>lab 1</td>\n",
       "    </tr>\n",
       "    <tr>\n",
       "      <th>3</th>\n",
       "      <td>4.592022</td>\n",
       "      <td>323.337432</td>\n",
       "      <td>255.768840</td>\n",
       "      <td>567.451833</td>\n",
       "      <td>347.661078</td>\n",
       "      <td>469.750459</td>\n",
       "      <td>247.606170</td>\n",
       "      <td>563.700550</td>\n",
       "      <td>4092.301440</td>\n",
       "      <td>lab 1</td>\n",
       "    </tr>\n",
       "    <tr>\n",
       "      <th>4</th>\n",
       "      <td>5.071755</td>\n",
       "      <td>322.092781</td>\n",
       "      <td>289.931072</td>\n",
       "      <td>469.933553</td>\n",
       "      <td>366.286832</td>\n",
       "      <td>480.229382</td>\n",
       "      <td>269.216169</td>\n",
       "      <td>576.275258</td>\n",
       "      <td>4638.897153</td>\n",
       "      <td>lab 1</td>\n",
       "    </tr>\n",
       "    <tr>\n",
       "      <th>...</th>\n",
       "      <td>...</td>\n",
       "      <td>...</td>\n",
       "      <td>...</td>\n",
       "      <td>...</td>\n",
       "      <td>...</td>\n",
       "      <td>...</td>\n",
       "      <td>...</td>\n",
       "      <td>...</td>\n",
       "      <td>...</td>\n",
       "      <td>...</td>\n",
       "    </tr>\n",
       "    <tr>\n",
       "      <th>495</th>\n",
       "      <td>4.589430</td>\n",
       "      <td>489.929433</td>\n",
       "      <td>276.907677</td>\n",
       "      <td>488.425065</td>\n",
       "      <td>404.577772</td>\n",
       "      <td>526.338130</td>\n",
       "      <td>213.742037</td>\n",
       "      <td>584.820145</td>\n",
       "      <td>4153.615153</td>\n",
       "      <td>lab 2</td>\n",
       "    </tr>\n",
       "    <tr>\n",
       "      <th>496</th>\n",
       "      <td>4.579692</td>\n",
       "      <td>472.371380</td>\n",
       "      <td>266.903674</td>\n",
       "      <td>541.036883</td>\n",
       "      <td>433.160238</td>\n",
       "      <td>472.360165</td>\n",
       "      <td>218.094281</td>\n",
       "      <td>524.844628</td>\n",
       "      <td>4003.555117</td>\n",
       "      <td>lab 2</td>\n",
       "    </tr>\n",
       "    <tr>\n",
       "      <th>497</th>\n",
       "      <td>4.780746</td>\n",
       "      <td>349.266008</td>\n",
       "      <td>289.452732</td>\n",
       "      <td>501.465107</td>\n",
       "      <td>386.935724</td>\n",
       "      <td>486.368360</td>\n",
       "      <td>238.570076</td>\n",
       "      <td>540.409289</td>\n",
       "      <td>4341.790983</td>\n",
       "      <td>lab 2</td>\n",
       "    </tr>\n",
       "    <tr>\n",
       "      <th>498</th>\n",
       "      <td>4.710649</td>\n",
       "      <td>396.557214</td>\n",
       "      <td>285.854424</td>\n",
       "      <td>585.416025</td>\n",
       "      <td>398.807060</td>\n",
       "      <td>504.375138</td>\n",
       "      <td>291.289756</td>\n",
       "      <td>560.416821</td>\n",
       "      <td>4287.816354</td>\n",
       "      <td>lab 2</td>\n",
       "    </tr>\n",
       "    <tr>\n",
       "      <th>499</th>\n",
       "      <td>4.707853</td>\n",
       "      <td>403.762184</td>\n",
       "      <td>278.989795</td>\n",
       "      <td>515.745701</td>\n",
       "      <td>344.962646</td>\n",
       "      <td>550.231941</td>\n",
       "      <td>224.677747</td>\n",
       "      <td>611.368824</td>\n",
       "      <td>4184.846930</td>\n",
       "      <td>lab 1</td>\n",
       "    </tr>\n",
       "  </tbody>\n",
       "</table>\n",
       "<p>500 rows × 10 columns</p>\n",
       "</div>"
      ],
      "text/plain": [
       "       target          v1          v2          v3          v4          v5  \\\n",
       "0    4.535422  403.413714  250.127634  484.195849  356.232461  448.176935   \n",
       "1    4.545924  430.624469  255.479308  614.729298  393.143663  567.554734   \n",
       "2    4.908784  288.772590  265.352161  482.119506  357.923501  420.674889   \n",
       "3    4.592022  323.337432  255.768840  567.451833  347.661078  469.750459   \n",
       "4    5.071755  322.092781  289.931072  469.933553  366.286832  480.229382   \n",
       "..        ...         ...         ...         ...         ...         ...   \n",
       "495  4.589430  489.929433  276.907677  488.425065  404.577772  526.338130   \n",
       "496  4.579692  472.371380  266.903674  541.036883  433.160238  472.360165   \n",
       "497  4.780746  349.266008  289.452732  501.465107  386.935724  486.368360   \n",
       "498  4.710649  396.557214  285.854424  585.416025  398.807060  504.375138   \n",
       "499  4.707853  403.762184  278.989795  515.745701  344.962646  550.231941   \n",
       "\n",
       "             v6          v7           v8 sample_type  \n",
       "0    201.106119  537.812323  4002.042143       lab 2  \n",
       "1    232.024341  681.065681  4087.668929       lab 1  \n",
       "2    241.778579  504.809867  4245.634578       lab 1  \n",
       "3    247.606170  563.700550  4092.301440       lab 1  \n",
       "4    269.216169  576.275258  4638.897153       lab 1  \n",
       "..          ...         ...          ...         ...  \n",
       "495  213.742037  584.820145  4153.615153       lab 2  \n",
       "496  218.094281  524.844628  4003.555117       lab 2  \n",
       "497  238.570076  540.409289  4341.790983       lab 2  \n",
       "498  291.289756  560.416821  4287.816354       lab 2  \n",
       "499  224.677747  611.368824  4184.846930       lab 1  \n",
       "\n",
       "[500 rows x 10 columns]"
      ]
     },
     "execution_count": 1017,
     "metadata": {},
     "output_type": "execute_result"
    }
   ],
   "source": [
    "df"
   ]
  },
  {
   "attachments": {},
   "cell_type": "markdown",
   "metadata": {},
   "source": [
    "# EXPLORATORY DATA ANALYSIS"
   ]
  },
  {
   "attachments": {},
   "cell_type": "markdown",
   "metadata": {},
   "source": [
    "Exploratory data analysis (EDA) is a crucial step in data analysis, and can help you understand the patterns and relationships in my `manipulated data`, identify potential issues, and generate `hypotheses for further analysis`. These techniques can help me gain insights into `manipulated` data and identify potential issues or areas of interest for further analysis. Once you have a better understanding of your data, you can start developing and testing hypotheses, and building `predictive models to solve the problem.`\n",
    "\n"
   ]
  },
  {
   "attachments": {},
   "cell_type": "markdown",
   "metadata": {},
   "source": [
    "From the describe table, we can see that the dataset contains `500 observations and 9 features including the target variable`. The target variable has a mean value of 4.77 and a standard deviation of 0.17. The features have different ranges of values, with v8 having the highest mean value of 4411.94 and v2 having the lowest mean value of 304.23. The standard deviation of the features also varies, with v1 having the highest standard deviation of 75.34 and v4 having the lowest standard deviation of 32.25. Overall, the dataset seems to have a moderate amount of variation in its features, but more detailed analysis is needed to determine the significance of these statistics."
   ]
  },
  {
   "cell_type": "code",
   "execution_count": 1074,
   "metadata": {},
   "outputs": [
    {
     "data": {
      "text/html": [
       "<div>\n",
       "<style scoped>\n",
       "    .dataframe tbody tr th:only-of-type {\n",
       "        vertical-align: middle;\n",
       "    }\n",
       "\n",
       "    .dataframe tbody tr th {\n",
       "        vertical-align: top;\n",
       "    }\n",
       "\n",
       "    .dataframe thead th {\n",
       "        text-align: right;\n",
       "    }\n",
       "</style>\n",
       "<table border=\"1\" class=\"dataframe\">\n",
       "  <thead>\n",
       "    <tr style=\"text-align: right;\">\n",
       "      <th></th>\n",
       "      <th>target</th>\n",
       "      <th>v1</th>\n",
       "      <th>v2</th>\n",
       "      <th>v3</th>\n",
       "      <th>v4</th>\n",
       "      <th>v5</th>\n",
       "      <th>v6</th>\n",
       "      <th>v7</th>\n",
       "      <th>v8</th>\n",
       "    </tr>\n",
       "  </thead>\n",
       "  <tbody>\n",
       "    <tr>\n",
       "      <th>count</th>\n",
       "      <td>500.000000</td>\n",
       "      <td>500.000000</td>\n",
       "      <td>500.000000</td>\n",
       "      <td>500.000000</td>\n",
       "      <td>500.000000</td>\n",
       "      <td>500.000000</td>\n",
       "      <td>500.000000</td>\n",
       "      <td>500.000000</td>\n",
       "      <td>500.000000</td>\n",
       "    </tr>\n",
       "    <tr>\n",
       "      <th>mean</th>\n",
       "      <td>4.769699</td>\n",
       "      <td>398.423647</td>\n",
       "      <td>304.231689</td>\n",
       "      <td>526.171633</td>\n",
       "      <td>380.510566</td>\n",
       "      <td>508.399730</td>\n",
       "      <td>246.244035</td>\n",
       "      <td>578.571252</td>\n",
       "      <td>4411.940837</td>\n",
       "    </tr>\n",
       "    <tr>\n",
       "      <th>std</th>\n",
       "      <td>0.172590</td>\n",
       "      <td>75.342290</td>\n",
       "      <td>46.806594</td>\n",
       "      <td>63.362279</td>\n",
       "      <td>32.248489</td>\n",
       "      <td>66.573251</td>\n",
       "      <td>32.988419</td>\n",
       "      <td>84.097369</td>\n",
       "      <td>245.571149</td>\n",
       "    </tr>\n",
       "    <tr>\n",
       "      <th>min</th>\n",
       "      <td>4.516532</td>\n",
       "      <td>282.867707</td>\n",
       "      <td>230.882152</td>\n",
       "      <td>430.673530</td>\n",
       "      <td>332.237017</td>\n",
       "      <td>414.430241</td>\n",
       "      <td>201.106119</td>\n",
       "      <td>460.478045</td>\n",
       "      <td>3987.391312</td>\n",
       "    </tr>\n",
       "    <tr>\n",
       "      <th>25%</th>\n",
       "      <td>4.625948</td>\n",
       "      <td>334.707927</td>\n",
       "      <td>275.272726</td>\n",
       "      <td>472.570980</td>\n",
       "      <td>351.073648</td>\n",
       "      <td>452.344745</td>\n",
       "      <td>219.420314</td>\n",
       "      <td>508.713851</td>\n",
       "      <td>4199.135817</td>\n",
       "    </tr>\n",
       "    <tr>\n",
       "      <th>50%</th>\n",
       "      <td>4.747295</td>\n",
       "      <td>389.963123</td>\n",
       "      <td>294.332859</td>\n",
       "      <td>514.625672</td>\n",
       "      <td>377.398962</td>\n",
       "      <td>491.951828</td>\n",
       "      <td>239.795428</td>\n",
       "      <td>566.938556</td>\n",
       "      <td>4412.341246</td>\n",
       "    </tr>\n",
       "    <tr>\n",
       "      <th>75%</th>\n",
       "      <td>4.896547</td>\n",
       "      <td>451.189154</td>\n",
       "      <td>314.973761</td>\n",
       "      <td>573.224056</td>\n",
       "      <td>406.281216</td>\n",
       "      <td>559.259664</td>\n",
       "      <td>267.147198</td>\n",
       "      <td>632.845137</td>\n",
       "      <td>4622.737538</td>\n",
       "    </tr>\n",
       "    <tr>\n",
       "      <th>max</th>\n",
       "      <td>5.217046</td>\n",
       "      <td>584.075891</td>\n",
       "      <td>457.179206</td>\n",
       "      <td>657.867231</td>\n",
       "      <td>448.908826</td>\n",
       "      <td>662.758608</td>\n",
       "      <td>335.325933</td>\n",
       "      <td>890.339256</td>\n",
       "      <td>4822.515957</td>\n",
       "    </tr>\n",
       "  </tbody>\n",
       "</table>\n",
       "</div>"
      ],
      "text/plain": [
       "           target          v1          v2          v3          v4          v5  \\\n",
       "count  500.000000  500.000000  500.000000  500.000000  500.000000  500.000000   \n",
       "mean     4.769699  398.423647  304.231689  526.171633  380.510566  508.399730   \n",
       "std      0.172590   75.342290   46.806594   63.362279   32.248489   66.573251   \n",
       "min      4.516532  282.867707  230.882152  430.673530  332.237017  414.430241   \n",
       "25%      4.625948  334.707927  275.272726  472.570980  351.073648  452.344745   \n",
       "50%      4.747295  389.963123  294.332859  514.625672  377.398962  491.951828   \n",
       "75%      4.896547  451.189154  314.973761  573.224056  406.281216  559.259664   \n",
       "max      5.217046  584.075891  457.179206  657.867231  448.908826  662.758608   \n",
       "\n",
       "               v6          v7           v8  \n",
       "count  500.000000  500.000000   500.000000  \n",
       "mean   246.244035  578.571252  4411.940837  \n",
       "std     32.988419   84.097369   245.571149  \n",
       "min    201.106119  460.478045  3987.391312  \n",
       "25%    219.420314  508.713851  4199.135817  \n",
       "50%    239.795428  566.938556  4412.341246  \n",
       "75%    267.147198  632.845137  4622.737538  \n",
       "max    335.325933  890.339256  4822.515957  "
      ]
     },
     "execution_count": 1074,
     "metadata": {},
     "output_type": "execute_result"
    }
   ],
   "source": [
    "df.describe()"
   ]
  },
  {
   "attachments": {},
   "cell_type": "markdown",
   "metadata": {},
   "source": [
    "### Sample Type Data Distribution"
   ]
  },
  {
   "attachments": {},
   "cell_type": "markdown",
   "metadata": {},
   "source": [
    "Based on the pie chart we created using Seaborn, we can see that the majority of the data `54.6%` comes from lab 1, while the remaining `45.4%` comes from lab 2. This information is important to keep in mind when interpreting the results of our analysis, as there may be differences in the way that data is collected or measured between the two labs that could affect our predictions."
   ]
  },
  {
   "cell_type": "code",
   "execution_count": 1076,
   "metadata": {},
   "outputs": [
    {
     "data": {
      "image/png": "[encoded data removed]",
      "text/plain": [
       "<Figure size 600x600 with 1 Axes>"
      ]
     },
     "metadata": {},
     "output_type": "display_data"
    }
   ],
   "source": [
    "sample_type_counts = df['sample_type'].value_counts()\n",
    "fig, ax = plt.subplots(figsize=(6, 6))\n",
    "ax.pie(sample_type_counts, labels=sample_type_counts.index, autopct='%1.1f%%', startangle=90)\n",
    "ax.set_title('Distribution of Sample Types')\n",
    "plt.show()"
   ]
  },
  {
   "attachments": {},
   "cell_type": "markdown",
   "metadata": {},
   "source": [
    "This code generates a set of barplots showing the distribution of the sample_type variable for each of the eight features (v1 through v8) in the dataset. Based on the barplots generated by the code, it seems that for each of the eight features, the lab2 sample type has almost same distibution with the lab1 sample type."
   ]
  },
  {
   "cell_type": "code",
   "execution_count": 1018,
   "metadata": {},
   "outputs": [
    {
     "data": {
      "image/png": "[encoded data removed]",
      "text/plain": [
       "<Figure size 1200x600 with 8 Axes>"
      ]
     },
     "metadata": {},
     "output_type": "display_data"
    }
   ],
   "source": [
    "fig, axes = plt.subplots(nrows=2, ncols=4, figsize=(12, 6))\n",
    "axes = axes.flatten()\n",
    "\n",
    "for i, col in enumerate(['v1', 'v2', 'v3', 'v4', 'v5', 'v6', 'v7', 'v8']):\n",
    "    sns.barplot(x=col, y=\"sample_type\", data=df, ax=axes[i])\n",
    "    axes[i].set_title(\"SAMPLE TYPE DISTRIBUTION\")\n",
    "\n",
    "plt.tight_layout()\n",
    "plt.show()"
   ]
  },
  {
   "attachments": {},
   "cell_type": "markdown",
   "metadata": {},
   "source": [
    "### V1 - V8 Distribution"
   ]
  },
  {
   "attachments": {},
   "cell_type": "markdown",
   "metadata": {},
   "source": [
    "The code is generates a set of eight histograms, one for each of the numerical features in the dataset `v1 - v8`. The resulting plot will have `8 subplots`, one for each numerical feature, showing the distribution of the feature values. The skewness measure can provide information about the shape of the distribution and whether it is symmetric or skewed. If the skewness is close to 0, the distribution is approximately symmetric, while positive or negative skewness indicates a right or left-skewed distribution, respectively. the result on every data `v1-v8` is the majority of the data in v1 falls in the range of 300-400, while for v2 it falls in the range of 200-300. For v3, the majority of the data falls in the range of 400-500. Similarly, for v4 it falls in the range of 300-400, for v5 it falls in the range of 400-500, for v6 it falls in the range of 200-250, and for v7 it falls in the range of 200-250. For v8, the majority of the data falls in the range of 4000-4750.\n",
    "\n",
    "\n"
   ]
  },
  {
   "cell_type": "code",
   "execution_count": 916,
   "metadata": {},
   "outputs": [
    {
     "data": {
      "image/png": "[encoded data removed]",
      "text/plain": [
       "<Figure size 2500x1000 with 8 Axes>"
      ]
     },
     "metadata": {},
     "output_type": "display_data"
    }
   ],
   "source": [
    "num = ['v1','v2','v3', 'v4', 'v5','v6','v7','v8']\n",
    "fig, ax = plt.subplots(ncols=8, figsize=[25,10])\n",
    "ax = ax.flatten()\n",
    "\n",
    "for idx, col in enumerate(num):\n",
    "    sns.histplot(df[col], ax=ax[idx])\n",
    "    ax[idx].set_title(f'{num[idx]} skew: {df[col].skew()}')"
   ]
  },
  {
   "attachments": {},
   "cell_type": "markdown",
   "metadata": {},
   "source": [
    "`Correlation analysis:` Calculate the correlation coefficients between different pairs of features in the dataset to identify potential correlations and dependencies."
   ]
  },
  {
   "cell_type": "code",
   "execution_count": 1019,
   "metadata": {},
   "outputs": [
    {
     "name": "stdout",
     "output_type": "stream",
     "text": [
      "interval columns not set, guessing: ['target', 'v1', 'v2', 'v3', 'v4', 'v5', 'v6', 'v7', 'v8']\n"
     ]
    },
    {
     "data": {
      "image/png": "[encoded data removed]",
      "text/plain": [
       "<Figure size 2000x1000 with 2 Axes>"
      ]
     },
     "metadata": {},
     "output_type": "display_data"
    }
   ],
   "source": [
    "phik_corr = df.phik_matrix()\n",
    "\n",
    "plot_correlation_matrix(phik_corr.values, \n",
    "                        x_labels=phik_corr.columns, \n",
    "                        y_labels=phik_corr.index, \n",
    "                        vmin=0, vmax=1, color_map='coolwarm',\n",
    "                        title=r'Correlation', \n",
    "                        figsize=(20,10))\n",
    "plt.show()"
   ]
  },
  {
   "attachments": {},
   "cell_type": "markdown",
   "metadata": {},
   "source": [
    "The resulting output shows a table of `correlation coefficients` between the variables, with target as the row index and the other variables `v1 through v8, and sample_type` as the column names. The values range between -1 and 1, with larger absolute values indicating stronger correlations. Positive values indicate a positive correlation (as one variable increases, so does the other), while negative values indicate a negative correlation (as one variable increases, the other decreases).\n",
    "\n",
    "Based on the phik correlation matrix, we can observe that the `sample_type` feature has the strongest positive correlation with the target variable, followed by `v8`. On the other hand, `v4` has the weakest correlation with the target variable. However, it's still important to carefully consider the nature of the data and the relationships between the variables, especially when interpreting the results.\n",
    "\n",
    "`the data has been manipulated`, it's important to be cautious about the results of any analysis or modeling. It's possible that the manipulation has affected the relationships between the variables and the target in unexpected ways, and it may be necessary to `carefully evaluate the quality.`"
   ]
  },
  {
   "cell_type": "code",
   "execution_count": 1020,
   "metadata": {},
   "outputs": [
    {
     "name": "stdout",
     "output_type": "stream",
     "text": [
      "interval columns not set, guessing: ['target', 'v1', 'v2', 'v3', 'v4', 'v5', 'v6', 'v7', 'v8']\n"
     ]
    },
    {
     "data": {
      "text/plain": [
       "target         1.000000\n",
       "sample_type    0.817499\n",
       "v8             0.772381\n",
       "v2             0.445205\n",
       "v5             0.381588\n",
       "v7             0.351099\n",
       "v1             0.348382\n",
       "v3             0.214364\n",
       "v6             0.197119\n",
       "v4             0.053264\n",
       "Name: target, dtype: float64"
      ]
     },
     "execution_count": 1020,
     "metadata": {},
     "output_type": "execute_result"
    }
   ],
   "source": [
    "df.phik_matrix().target.sort_values(ascending=False) "
   ]
  },
  {
   "attachments": {},
   "cell_type": "markdown",
   "metadata": {},
   "source": [
    "# FEATURES ENGINEERING"
   ]
  },
  {
   "attachments": {},
   "cell_type": "markdown",
   "metadata": {},
   "source": [
    "After we do `EDA` and find the correlation with `target` now we choosing of features for a machine learning model. The features are split into two categories: numerical features `numcol` and categorical features `catcol`. We want to choose as a feature for getting and make sure for an optimal model machine learning we make."
   ]
  },
  {
   "attachments": {},
   "cell_type": "markdown",
   "metadata": {},
   "source": [
    "### Split between `X` (Features) and `Y` (Target), and split between Train-Set and Test-Set"
   ]
  },
  {
   "attachments": {},
   "cell_type": "markdown",
   "metadata": {},
   "source": [
    "splitting a data into training and test sets for a machine learning model. The data has a column `target`, which is being removed from the feature set (x) and stored as the target variable (y). The `train_test_split` function is then used to split the data into a training set `x_train, y_train` and a test set `x_test, y_test` and `test_size` represents the proportion of the dataset that you want to allocate to the test set. In this case, 0.2 means that 20% of the data will be used for testing, and 80% will be used for training."
   ]
  },
  {
   "cell_type": "code",
   "execution_count": 1021,
   "metadata": {},
   "outputs": [
    {
     "name": "stdout",
     "output_type": "stream",
     "text": [
      "X Train Size :  (400, 9)\n",
      "X Test Size  :  (100, 9)\n",
      "\n",
      "Y Train Size :  (400,)\n",
      "Y Test Size :  (100,)\n"
     ]
    }
   ],
   "source": [
    "x = df.drop('target', axis=1)\n",
    "y = df['target']\n",
    "\n",
    "x_train, x_test, y_train, y_test = train_test_split(x, y, test_size=0.2, random_state=0)\n",
    "print('X Train Size : ', x_train.shape)\n",
    "print('X Test Size  : ', x_test.shape)\n",
    "print('')\n",
    "print('Y Train Size : ', y_train.shape)\n",
    "print('Y Test Size : ', y_test.shape)"
   ]
  },
  {
   "attachments": {},
   "cell_type": "markdown",
   "metadata": {},
   "source": [
    "### Fature Selection (Features)"
   ]
  },
  {
   "cell_type": "code",
   "execution_count": 984,
   "metadata": {},
   "outputs": [],
   "source": [
    "numcol = ['v1','v2','v3', 'v4', 'v5','v6','v7','v8']\n",
    "catcol = ['sample_type']"
   ]
  },
  {
   "attachments": {},
   "cell_type": "markdown",
   "metadata": {},
   "source": [
    "creating separate DataFrames for the numerical and categorical features in the training set `X_train_num` and `X_train_cat` and the test set `X_test_num` and `X_test_cat` by indexing the original DataFrames `x_train` and `x_test`"
   ]
  },
  {
   "cell_type": "code",
   "execution_count": 985,
   "metadata": {},
   "outputs": [],
   "source": [
    "X_train_num = x_train[numcol]\n",
    "X_train_cat = x_train[catcol]\n",
    "\n",
    "X_test_num = x_test[numcol]\n",
    "X_test_cat = x_test[catcol]"
   ]
  },
  {
   "attachments": {},
   "cell_type": "markdown",
   "metadata": {},
   "source": [
    "combines all of the selected `numerical and categorical` features into a single DataFrame that can be used as input for a `machine learning model`. It is creating a dataframe with all the selected features `numerical and categorical` that can be used to train a model. Also, it is creating the `final` dataframe which is used for training the model."
   ]
  },
  {
   "cell_type": "code",
   "execution_count": 954,
   "metadata": {},
   "outputs": [
    {
     "data": {
      "text/html": [
       "<div>\n",
       "<style scoped>\n",
       "    .dataframe tbody tr th:only-of-type {\n",
       "        vertical-align: middle;\n",
       "    }\n",
       "\n",
       "    .dataframe tbody tr th {\n",
       "        vertical-align: top;\n",
       "    }\n",
       "\n",
       "    .dataframe thead th {\n",
       "        text-align: right;\n",
       "    }\n",
       "</style>\n",
       "<table border=\"1\" class=\"dataframe\">\n",
       "  <thead>\n",
       "    <tr style=\"text-align: right;\">\n",
       "      <th></th>\n",
       "      <th>v1</th>\n",
       "      <th>v2</th>\n",
       "      <th>v3</th>\n",
       "      <th>v4</th>\n",
       "      <th>v5</th>\n",
       "      <th>v6</th>\n",
       "      <th>v7</th>\n",
       "      <th>v8</th>\n",
       "      <th>sample_type</th>\n",
       "    </tr>\n",
       "  </thead>\n",
       "  <tbody>\n",
       "    <tr>\n",
       "      <th>107</th>\n",
       "      <td>379.815002</td>\n",
       "      <td>412.258155</td>\n",
       "      <td>612.258155</td>\n",
       "      <td>402.801322</td>\n",
       "      <td>438.278963</td>\n",
       "      <td>321.771455</td>\n",
       "      <td>486.976626</td>\n",
       "      <td>4263.555728</td>\n",
       "      <td>lab 1</td>\n",
       "    </tr>\n",
       "    <tr>\n",
       "      <th>336</th>\n",
       "      <td>354.169669</td>\n",
       "      <td>305.452330</td>\n",
       "      <td>530.409335</td>\n",
       "      <td>371.271394</td>\n",
       "      <td>489.117255</td>\n",
       "      <td>231.462678</td>\n",
       "      <td>543.463617</td>\n",
       "      <td>4581.784956</td>\n",
       "      <td>lab 1</td>\n",
       "    </tr>\n",
       "    <tr>\n",
       "      <th>71</th>\n",
       "      <td>498.453891</td>\n",
       "      <td>347.244213</td>\n",
       "      <td>547.244213</td>\n",
       "      <td>400.260964</td>\n",
       "      <td>515.110111</td>\n",
       "      <td>222.260509</td>\n",
       "      <td>702.422879</td>\n",
       "      <td>4039.831683</td>\n",
       "      <td>lab 2</td>\n",
       "    </tr>\n",
       "    <tr>\n",
       "      <th>474</th>\n",
       "      <td>497.425217</td>\n",
       "      <td>280.309468</td>\n",
       "      <td>491.035008</td>\n",
       "      <td>402.018915</td>\n",
       "      <td>471.214689</td>\n",
       "      <td>202.973999</td>\n",
       "      <td>523.571877</td>\n",
       "      <td>4204.642018</td>\n",
       "      <td>lab 1</td>\n",
       "    </tr>\n",
       "    <tr>\n",
       "      <th>6</th>\n",
       "      <td>409.918641</td>\n",
       "      <td>280.026169</td>\n",
       "      <td>504.282515</td>\n",
       "      <td>411.591697</td>\n",
       "      <td>484.238414</td>\n",
       "      <td>234.582087</td>\n",
       "      <td>581.086097</td>\n",
       "      <td>4480.418704</td>\n",
       "      <td>lab 1</td>\n",
       "    </tr>\n",
       "    <tr>\n",
       "      <th>...</th>\n",
       "      <td>...</td>\n",
       "      <td>...</td>\n",
       "      <td>...</td>\n",
       "      <td>...</td>\n",
       "      <td>...</td>\n",
       "      <td>...</td>\n",
       "      <td>...</td>\n",
       "      <td>...</td>\n",
       "      <td>...</td>\n",
       "    </tr>\n",
       "    <tr>\n",
       "      <th>323</th>\n",
       "      <td>325.158733</td>\n",
       "      <td>317.701424</td>\n",
       "      <td>459.572322</td>\n",
       "      <td>363.831566</td>\n",
       "      <td>446.037625</td>\n",
       "      <td>256.083701</td>\n",
       "      <td>495.597362</td>\n",
       "      <td>4765.521366</td>\n",
       "      <td>lab 1</td>\n",
       "    </tr>\n",
       "    <tr>\n",
       "      <th>192</th>\n",
       "      <td>313.928395</td>\n",
       "      <td>257.282764</td>\n",
       "      <td>457.282764</td>\n",
       "      <td>378.550496</td>\n",
       "      <td>419.818923</td>\n",
       "      <td>261.731930</td>\n",
       "      <td>466.465470</td>\n",
       "      <td>4233.764256</td>\n",
       "      <td>lab 1</td>\n",
       "    </tr>\n",
       "    <tr>\n",
       "      <th>117</th>\n",
       "      <td>363.332294</td>\n",
       "      <td>254.342388</td>\n",
       "      <td>454.342388</td>\n",
       "      <td>364.194308</td>\n",
       "      <td>445.482816</td>\n",
       "      <td>227.364352</td>\n",
       "      <td>494.980906</td>\n",
       "      <td>4476.675695</td>\n",
       "      <td>lab 1</td>\n",
       "    </tr>\n",
       "    <tr>\n",
       "      <th>47</th>\n",
       "      <td>392.554860</td>\n",
       "      <td>296.217556</td>\n",
       "      <td>486.305474</td>\n",
       "      <td>399.877483</td>\n",
       "      <td>526.291042</td>\n",
       "      <td>267.188591</td>\n",
       "      <td>717.669603</td>\n",
       "      <td>4739.480900</td>\n",
       "      <td>lab 1</td>\n",
       "    </tr>\n",
       "    <tr>\n",
       "      <th>172</th>\n",
       "      <td>446.493272</td>\n",
       "      <td>450.461217</td>\n",
       "      <td>650.461217</td>\n",
       "      <td>394.877548</td>\n",
       "      <td>548.733377</td>\n",
       "      <td>292.882151</td>\n",
       "      <td>609.703752</td>\n",
       "      <td>4413.132279</td>\n",
       "      <td>lab 1</td>\n",
       "    </tr>\n",
       "  </tbody>\n",
       "</table>\n",
       "<p>400 rows × 9 columns</p>\n",
       "</div>"
      ],
      "text/plain": [
       "             v1          v2          v3          v4          v5          v6  \\\n",
       "107  379.815002  412.258155  612.258155  402.801322  438.278963  321.771455   \n",
       "336  354.169669  305.452330  530.409335  371.271394  489.117255  231.462678   \n",
       "71   498.453891  347.244213  547.244213  400.260964  515.110111  222.260509   \n",
       "474  497.425217  280.309468  491.035008  402.018915  471.214689  202.973999   \n",
       "6    409.918641  280.026169  504.282515  411.591697  484.238414  234.582087   \n",
       "..          ...         ...         ...         ...         ...         ...   \n",
       "323  325.158733  317.701424  459.572322  363.831566  446.037625  256.083701   \n",
       "192  313.928395  257.282764  457.282764  378.550496  419.818923  261.731930   \n",
       "117  363.332294  254.342388  454.342388  364.194308  445.482816  227.364352   \n",
       "47   392.554860  296.217556  486.305474  399.877483  526.291042  267.188591   \n",
       "172  446.493272  450.461217  650.461217  394.877548  548.733377  292.882151   \n",
       "\n",
       "             v7           v8 sample_type  \n",
       "107  486.976626  4263.555728       lab 1  \n",
       "336  543.463617  4581.784956       lab 1  \n",
       "71   702.422879  4039.831683       lab 2  \n",
       "474  523.571877  4204.642018       lab 1  \n",
       "6    581.086097  4480.418704       lab 1  \n",
       "..          ...          ...         ...  \n",
       "323  495.597362  4765.521366       lab 1  \n",
       "192  466.465470  4233.764256       lab 1  \n",
       "117  494.980906  4476.675695       lab 1  \n",
       "47   717.669603  4739.480900       lab 1  \n",
       "172  609.703752  4413.132279       lab 1  \n",
       "\n",
       "[400 rows x 9 columns]"
      ]
     },
     "execution_count": 954,
     "metadata": {},
     "output_type": "execute_result"
    }
   ],
   "source": [
    "X_train_full = pd.concat([X_train_num, X_train_cat], axis=1)\n",
    "X_train_full"
   ]
  },
  {
   "attachments": {},
   "cell_type": "markdown",
   "metadata": {},
   "source": [
    "# PREPROCESSING"
   ]
  },
  {
   "attachments": {},
   "cell_type": "markdown",
   "metadata": {},
   "source": [
    "### OUTLIERS HANDLING\n",
    "`I suspect that there may be an event in the dataset that is causing outliers,` it is important to investigate further to determine if there is a valid reason for the outlier or if it is simply an error in the data. In some cases, outliers may be due to a legitimate event or extreme circumstance, such as a plant being exposed to unusual environmental conditions that affected its nutrient levels so `i dont use any outliers handling`"
   ]
  },
  {
   "attachments": {},
   "cell_type": "markdown",
   "metadata": {},
   "source": [
    "`But still, we need to check the out liers using IQR method`. And it seems like there are no outliers detected for any of the `features v1 to v8.` The count of outliers and the percentage of outliers for each feature are both zero, indicating that all values fall within a reasonable range and there are no extreme values that could skew the data analysis."
   ]
  },
  {
   "cell_type": "code",
   "execution_count": 986,
   "metadata": {},
   "outputs": [
    {
     "name": "stdout",
     "output_type": "stream",
     "text": [
      "Outliers for feature v1\n",
      "count of outlier:  0\n",
      "percentage of outlier:  0.0 %\n",
      "Outliers for feature v2\n",
      "count of outlier:  49\n",
      "percentage of outlier:  9.8 %\n",
      "Outliers for feature v3\n",
      "count of outlier:  0\n",
      "percentage of outlier:  0.0 %\n",
      "Outliers for feature v4\n",
      "count of outlier:  0\n",
      "percentage of outlier:  0.0 %\n",
      "Outliers for feature v5\n",
      "count of outlier:  0\n",
      "percentage of outlier:  0.0 %\n",
      "Outliers for feature v6\n",
      "count of outlier:  0\n",
      "percentage of outlier:  0.0 %\n",
      "Outliers for feature v7\n",
      "count of outlier:  3\n",
      "percentage of outlier:  0.6 %\n",
      "Outliers for feature v8\n",
      "count of outlier:  0\n",
      "percentage of outlier:  0.0 %\n"
     ]
    }
   ],
   "source": [
    "# calculate the upper and lower limits for each feature\n",
    "for feature in ['v1', 'v2', 'v3', 'v4', 'v5', 'v6', 'v7', 'v8']:\n",
    "    Q3 = df[feature].quantile(.75)\n",
    "    Q1 = df[feature].quantile(.25)\n",
    "\n",
    "    IQR = Q3 - Q1\n",
    "\n",
    "    upper = Q3 + (1.5 * IQR)\n",
    "    lower = Q1 - (1.5 * IQR)\n",
    "\n",
    "    # identify outliers for each feature and print results\n",
    "    outlier = df[(df[feature] > upper) | (df[feature] < lower)]\n",
    "    print('Outliers for feature', feature)\n",
    "    print('count of outlier: ', outlier.shape[0])\n",
    "    print('percentage of outlier: ', outlier.shape[0]/df.shape[0] * 100, '%')\n"
   ]
  },
  {
   "attachments": {},
   "cell_type": "markdown",
   "metadata": {},
   "source": [
    "### CATEGORICAL HANDLING"
   ]
  },
  {
   "attachments": {},
   "cell_type": "markdown",
   "metadata": {},
   "source": [
    "First extract the `sample_type` column from the data and store it in the `catcol` variable. We then create an `OrdinalEncoder` object and fit it to the `sample_type` column using the `fit_transform` method. This method both fits the encoder to the data and transforms the data by encoding the categorical values into numerical codes. and put it into a pipeline"
   ]
  },
  {
   "cell_type": "code",
   "execution_count": 997,
   "metadata": {},
   "outputs": [
    {
     "data": {
      "text/plain": [
       "array([[0.],\n",
       "       [0.],\n",
       "       [1.],\n",
       "       [0.],\n",
       "       [0.],\n",
       "       [0.],\n",
       "       [1.],\n",
       "       [0.],\n",
       "       [0.],\n",
       "       [0.],\n",
       "       [0.],\n",
       "       [0.],\n",
       "       [1.],\n",
       "       [0.],\n",
       "       [0.],\n",
       "       [0.],\n",
       "       [0.],\n",
       "       [1.],\n",
       "       [0.],\n",
       "       [1.],\n",
       "       [1.],\n",
       "       [0.],\n",
       "       [1.],\n",
       "       [0.],\n",
       "       [1.],\n",
       "       [0.],\n",
       "       [0.],\n",
       "       [0.],\n",
       "       [0.],\n",
       "       [0.],\n",
       "       [0.],\n",
       "       [0.],\n",
       "       [0.],\n",
       "       [0.],\n",
       "       [0.],\n",
       "       [0.],\n",
       "       [1.],\n",
       "       [0.],\n",
       "       [1.],\n",
       "       [1.],\n",
       "       [1.],\n",
       "       [0.],\n",
       "       [1.],\n",
       "       [0.],\n",
       "       [0.],\n",
       "       [0.],\n",
       "       [0.],\n",
       "       [0.],\n",
       "       [0.],\n",
       "       [1.],\n",
       "       [0.],\n",
       "       [1.],\n",
       "       [0.],\n",
       "       [0.],\n",
       "       [1.],\n",
       "       [0.],\n",
       "       [0.],\n",
       "       [0.],\n",
       "       [0.],\n",
       "       [1.],\n",
       "       [0.],\n",
       "       [0.],\n",
       "       [0.],\n",
       "       [0.],\n",
       "       [0.],\n",
       "       [0.],\n",
       "       [0.],\n",
       "       [1.],\n",
       "       [1.],\n",
       "       [0.],\n",
       "       [0.],\n",
       "       [0.],\n",
       "       [1.],\n",
       "       [1.],\n",
       "       [0.],\n",
       "       [0.],\n",
       "       [0.],\n",
       "       [0.],\n",
       "       [0.],\n",
       "       [0.],\n",
       "       [1.],\n",
       "       [1.],\n",
       "       [0.],\n",
       "       [0.],\n",
       "       [0.],\n",
       "       [0.],\n",
       "       [0.],\n",
       "       [0.],\n",
       "       [0.],\n",
       "       [0.],\n",
       "       [0.],\n",
       "       [0.],\n",
       "       [0.],\n",
       "       [0.],\n",
       "       [0.],\n",
       "       [1.],\n",
       "       [1.],\n",
       "       [1.],\n",
       "       [0.],\n",
       "       [0.],\n",
       "       [1.],\n",
       "       [0.],\n",
       "       [0.],\n",
       "       [0.],\n",
       "       [1.],\n",
       "       [0.],\n",
       "       [0.],\n",
       "       [0.],\n",
       "       [1.],\n",
       "       [0.],\n",
       "       [0.],\n",
       "       [0.],\n",
       "       [0.],\n",
       "       [0.],\n",
       "       [0.],\n",
       "       [0.],\n",
       "       [1.],\n",
       "       [0.],\n",
       "       [0.],\n",
       "       [0.],\n",
       "       [0.],\n",
       "       [0.],\n",
       "       [0.],\n",
       "       [1.],\n",
       "       [0.],\n",
       "       [0.],\n",
       "       [0.],\n",
       "       [0.],\n",
       "       [1.],\n",
       "       [0.],\n",
       "       [0.],\n",
       "       [1.],\n",
       "       [0.],\n",
       "       [1.],\n",
       "       [1.],\n",
       "       [1.],\n",
       "       [1.],\n",
       "       [1.],\n",
       "       [0.],\n",
       "       [1.],\n",
       "       [0.],\n",
       "       [1.],\n",
       "       [0.],\n",
       "       [0.],\n",
       "       [1.],\n",
       "       [0.],\n",
       "       [0.],\n",
       "       [0.],\n",
       "       [0.],\n",
       "       [1.],\n",
       "       [0.],\n",
       "       [0.],\n",
       "       [1.],\n",
       "       [1.],\n",
       "       [1.],\n",
       "       [0.],\n",
       "       [1.],\n",
       "       [1.],\n",
       "       [0.],\n",
       "       [0.],\n",
       "       [1.],\n",
       "       [0.],\n",
       "       [0.],\n",
       "       [1.],\n",
       "       [1.],\n",
       "       [0.],\n",
       "       [0.],\n",
       "       [0.],\n",
       "       [0.],\n",
       "       [0.],\n",
       "       [0.],\n",
       "       [0.],\n",
       "       [1.],\n",
       "       [1.],\n",
       "       [0.],\n",
       "       [0.],\n",
       "       [0.],\n",
       "       [1.],\n",
       "       [1.],\n",
       "       [0.],\n",
       "       [0.],\n",
       "       [1.],\n",
       "       [1.],\n",
       "       [0.],\n",
       "       [0.],\n",
       "       [0.],\n",
       "       [1.],\n",
       "       [1.],\n",
       "       [0.],\n",
       "       [0.],\n",
       "       [0.],\n",
       "       [0.],\n",
       "       [0.],\n",
       "       [1.],\n",
       "       [0.],\n",
       "       [1.],\n",
       "       [1.],\n",
       "       [1.],\n",
       "       [0.],\n",
       "       [1.],\n",
       "       [1.],\n",
       "       [0.],\n",
       "       [0.],\n",
       "       [0.],\n",
       "       [0.],\n",
       "       [0.],\n",
       "       [0.],\n",
       "       [1.],\n",
       "       [1.],\n",
       "       [0.],\n",
       "       [1.],\n",
       "       [1.],\n",
       "       [0.],\n",
       "       [1.],\n",
       "       [1.],\n",
       "       [0.],\n",
       "       [0.],\n",
       "       [0.],\n",
       "       [0.],\n",
       "       [0.],\n",
       "       [1.],\n",
       "       [1.],\n",
       "       [0.],\n",
       "       [1.],\n",
       "       [0.],\n",
       "       [0.],\n",
       "       [0.],\n",
       "       [0.],\n",
       "       [0.],\n",
       "       [0.],\n",
       "       [0.],\n",
       "       [0.],\n",
       "       [0.],\n",
       "       [0.],\n",
       "       [0.],\n",
       "       [0.],\n",
       "       [0.],\n",
       "       [0.],\n",
       "       [0.],\n",
       "       [1.],\n",
       "       [0.],\n",
       "       [0.],\n",
       "       [1.],\n",
       "       [0.],\n",
       "       [0.],\n",
       "       [0.],\n",
       "       [0.],\n",
       "       [0.],\n",
       "       [0.],\n",
       "       [1.],\n",
       "       [1.],\n",
       "       [0.],\n",
       "       [0.],\n",
       "       [1.],\n",
       "       [1.],\n",
       "       [1.],\n",
       "       [0.],\n",
       "       [1.],\n",
       "       [1.],\n",
       "       [0.],\n",
       "       [1.],\n",
       "       [0.],\n",
       "       [0.],\n",
       "       [1.],\n",
       "       [0.],\n",
       "       [0.],\n",
       "       [0.],\n",
       "       [0.],\n",
       "       [0.],\n",
       "       [1.],\n",
       "       [0.],\n",
       "       [0.],\n",
       "       [0.],\n",
       "       [1.],\n",
       "       [0.],\n",
       "       [0.],\n",
       "       [1.],\n",
       "       [0.],\n",
       "       [0.],\n",
       "       [0.],\n",
       "       [1.],\n",
       "       [1.],\n",
       "       [1.],\n",
       "       [1.],\n",
       "       [1.],\n",
       "       [0.],\n",
       "       [0.],\n",
       "       [0.],\n",
       "       [0.],\n",
       "       [0.],\n",
       "       [0.],\n",
       "       [1.],\n",
       "       [0.],\n",
       "       [1.],\n",
       "       [0.],\n",
       "       [0.],\n",
       "       [0.],\n",
       "       [1.],\n",
       "       [1.],\n",
       "       [0.],\n",
       "       [1.],\n",
       "       [1.],\n",
       "       [1.],\n",
       "       [1.],\n",
       "       [0.],\n",
       "       [0.],\n",
       "       [0.],\n",
       "       [0.],\n",
       "       [1.],\n",
       "       [1.],\n",
       "       [1.],\n",
       "       [1.],\n",
       "       [0.],\n",
       "       [0.],\n",
       "       [0.],\n",
       "       [0.],\n",
       "       [0.],\n",
       "       [0.],\n",
       "       [0.],\n",
       "       [0.],\n",
       "       [1.],\n",
       "       [0.],\n",
       "       [0.],\n",
       "       [0.],\n",
       "       [1.],\n",
       "       [1.],\n",
       "       [0.],\n",
       "       [0.],\n",
       "       [0.],\n",
       "       [0.],\n",
       "       [0.],\n",
       "       [1.],\n",
       "       [1.],\n",
       "       [0.],\n",
       "       [1.],\n",
       "       [0.],\n",
       "       [1.],\n",
       "       [1.],\n",
       "       [0.],\n",
       "       [1.],\n",
       "       [0.],\n",
       "       [0.],\n",
       "       [1.],\n",
       "       [0.],\n",
       "       [1.],\n",
       "       [1.],\n",
       "       [0.],\n",
       "       [1.],\n",
       "       [1.],\n",
       "       [0.],\n",
       "       [0.],\n",
       "       [0.],\n",
       "       [0.],\n",
       "       [0.],\n",
       "       [0.],\n",
       "       [0.],\n",
       "       [0.],\n",
       "       [0.],\n",
       "       [1.],\n",
       "       [1.],\n",
       "       [0.],\n",
       "       [0.],\n",
       "       [0.],\n",
       "       [0.],\n",
       "       [0.],\n",
       "       [0.],\n",
       "       [0.],\n",
       "       [0.],\n",
       "       [0.],\n",
       "       [0.],\n",
       "       [0.],\n",
       "       [0.],\n",
       "       [0.],\n",
       "       [0.],\n",
       "       [0.],\n",
       "       [1.],\n",
       "       [0.],\n",
       "       [0.],\n",
       "       [0.],\n",
       "       [0.],\n",
       "       [0.],\n",
       "       [0.],\n",
       "       [0.],\n",
       "       [1.],\n",
       "       [1.],\n",
       "       [0.],\n",
       "       [1.],\n",
       "       [0.],\n",
       "       [0.],\n",
       "       [0.],\n",
       "       [0.],\n",
       "       [1.],\n",
       "       [0.],\n",
       "       [1.],\n",
       "       [0.],\n",
       "       [0.],\n",
       "       [0.],\n",
       "       [0.],\n",
       "       [0.],\n",
       "       [0.]])"
      ]
     },
     "execution_count": 997,
     "metadata": {},
     "output_type": "execute_result"
    }
   ],
   "source": [
    "cat_1_pipeline = Pipeline([\n",
    "        ('encoder', OrdinalEncoder())\n",
    "    ],\n",
    "    )\n",
    "\n",
    "cat_1_tr = cat_1_pipeline.fit_transform(X_train_full[['sample_type']])\n",
    "cat_1_tr"
   ]
  },
  {
   "attachments": {},
   "cell_type": "markdown",
   "metadata": {},
   "source": [
    "### NUMERICAL HANDLING"
   ]
  },
  {
   "attachments": {},
   "cell_type": "markdown",
   "metadata": {},
   "source": [
    "We use `StandardScaler` for numerical handling is another data normalization technique that scales the features to have zero mean and unit variance. This method assumes that the data follows a normal distribution, where the mean is zero and the standard deviation is one. and put it into a pipeline"
   ]
  },
  {
   "cell_type": "code",
   "execution_count": 1031,
   "metadata": {},
   "outputs": [
    {
     "data": {
      "text/plain": [
       "array([[-0.23477522,  2.43645008,  1.41187812, ...,  2.28787571,\n",
       "        -1.0576958 , -0.6148231 ],\n",
       "       [-0.58127201,  0.06266388,  0.10414533, ..., -0.42629168,\n",
       "        -0.38820453,  0.68446116],\n",
       "       [ 1.36816732,  0.99149893,  0.37312321, ..., -0.70285646,\n",
       "         1.49580161, -1.52825626],\n",
       "       ...,\n",
       "       [-0.45747482, -1.0732674 , -1.11120804, ..., -0.54946404,\n",
       "        -0.96282801,  0.25531513],\n",
       "       [-0.06264566, -0.14258129, -0.60052046, ...,  0.64742575,\n",
       "         1.6765078 ,  1.32831105],\n",
       "       [ 0.66612191,  3.2855227 ,  2.02226439, ...,  1.4196278 ,\n",
       "         0.39688229, -0.00412351]])"
      ]
     },
     "execution_count": 1031,
     "metadata": {},
     "output_type": "execute_result"
    }
   ],
   "source": [
    " cat_2_pipeline = Pipeline([\n",
    "        ('scaler', StandardScaler())\n",
    "    ])\n",
    "\n",
    "cat_2_tr = cat_2_pipeline.fit_transform(X_train_full[numcol])\n",
    "cat_2_tr"
   ]
  },
  {
   "attachments": {},
   "cell_type": "markdown",
   "metadata": {},
   "source": [
    "### COMBINING ALL PROCESS INTO PIPELINE"
   ]
  },
  {
   "attachments": {},
   "cell_type": "markdown",
   "metadata": {},
   "source": [
    "the code you provided creates a preprocessor pipeline using the `ColumnTransformer`. This pipeline applies two steps to the input data:\n",
    "\n",
    "1. The first step applies the `OrdinalEncoder` pipeline (named `cat_1_pipeline`) to the `sample_type` column of the input data.\n",
    "2. The second step applies the `StandardScaler` pipeline (named `cat_2_pipeline`) to the `numerical features (columns)` specified by the `numcol` variable."
   ]
  },
  {
   "cell_type": "code",
   "execution_count": 1032,
   "metadata": {},
   "outputs": [],
   "source": [
    "preprocessor = ColumnTransformer(\n",
    "    transformers=[\n",
    "        ('encoder', cat_1_pipeline, ['sample_type']),\n",
    "        ('encoder2', cat_2_pipeline, numcol),\n",
    "\n",
    "    ])\n",
    "\n",
    "X_train_transformed = preprocessor.fit_transform(X_train_full)"
   ]
  },
  {
   "cell_type": "code",
   "execution_count": 1034,
   "metadata": {},
   "outputs": [
    {
     "data": {
      "text/html": [
       "<style>#sk-container-id-84 {color: black;background-color: white;}#sk-container-id-84 pre{padding: 0;}#sk-container-id-84 div.sk-toggleable {background-color: white;}#sk-container-id-84 label.sk-toggleable__label {cursor: pointer;display: block;width: 100%;margin-bottom: 0;padding: 0.3em;box-sizing: border-box;text-align: center;}#sk-container-id-84 label.sk-toggleable__label-arrow:before {content: \"▸\";float: left;margin-right: 0.25em;color: #696969;}#sk-container-id-84 label.sk-toggleable__label-arrow:hover:before {color: black;}#sk-container-id-84 div.sk-estimator:hover label.sk-toggleable__label-arrow:before {color: black;}#sk-container-id-84 div.sk-toggleable__content {max-height: 0;max-width: 0;overflow: hidden;text-align: left;background-color: #f0f8ff;}#sk-container-id-84 div.sk-toggleable__content pre {margin: 0.2em;color: black;border-radius: 0.25em;background-color: #f0f8ff;}#sk-container-id-84 input.sk-toggleable__control:checked~div.sk-toggleable__content {max-height: 200px;max-width: 100%;overflow: auto;}#sk-container-id-84 input.sk-toggleable__control:checked~label.sk-toggleable__label-arrow:before {content: \"▾\";}#sk-container-id-84 div.sk-estimator input.sk-toggleable__control:checked~label.sk-toggleable__label {background-color: #d4ebff;}#sk-container-id-84 div.sk-label input.sk-toggleable__control:checked~label.sk-toggleable__label {background-color: #d4ebff;}#sk-container-id-84 input.sk-hidden--visually {border: 0;clip: rect(1px 1px 1px 1px);clip: rect(1px, 1px, 1px, 1px);height: 1px;margin: -1px;overflow: hidden;padding: 0;position: absolute;width: 1px;}#sk-container-id-84 div.sk-estimator {font-family: monospace;background-color: #f0f8ff;border: 1px dotted black;border-radius: 0.25em;box-sizing: border-box;margin-bottom: 0.5em;}#sk-container-id-84 div.sk-estimator:hover {background-color: #d4ebff;}#sk-container-id-84 div.sk-parallel-item::after {content: \"\";width: 100%;border-bottom: 1px solid gray;flex-grow: 1;}#sk-container-id-84 div.sk-label:hover label.sk-toggleable__label {background-color: #d4ebff;}#sk-container-id-84 div.sk-serial::before {content: \"\";position: absolute;border-left: 1px solid gray;box-sizing: border-box;top: 0;bottom: 0;left: 50%;z-index: 0;}#sk-container-id-84 div.sk-serial {display: flex;flex-direction: column;align-items: center;background-color: white;padding-right: 0.2em;padding-left: 0.2em;position: relative;}#sk-container-id-84 div.sk-item {position: relative;z-index: 1;}#sk-container-id-84 div.sk-parallel {display: flex;align-items: stretch;justify-content: center;background-color: white;position: relative;}#sk-container-id-84 div.sk-item::before, #sk-container-id-84 div.sk-parallel-item::before {content: \"\";position: absolute;border-left: 1px solid gray;box-sizing: border-box;top: 0;bottom: 0;left: 50%;z-index: -1;}#sk-container-id-84 div.sk-parallel-item {display: flex;flex-direction: column;z-index: 1;position: relative;background-color: white;}#sk-container-id-84 div.sk-parallel-item:first-child::after {align-self: flex-end;width: 50%;}#sk-container-id-84 div.sk-parallel-item:last-child::after {align-self: flex-start;width: 50%;}#sk-container-id-84 div.sk-parallel-item:only-child::after {width: 0;}#sk-container-id-84 div.sk-dashed-wrapped {border: 1px dashed gray;margin: 0 0.4em 0.5em 0.4em;box-sizing: border-box;padding-bottom: 0.4em;background-color: white;}#sk-container-id-84 div.sk-label label {font-family: monospace;font-weight: bold;display: inline-block;line-height: 1.2em;}#sk-container-id-84 div.sk-label-container {text-align: center;}#sk-container-id-84 div.sk-container {/* jupyter's `normalize.less` sets `[hidden] { display: none; }` but bootstrap.min.css set `[hidden] { display: none !important; }` so we also need the `!important` here to be able to override the default hidden behavior on the sphinx rendered scikit-learn.org. See: https://github.com/scikit-learn/scikit-learn/issues/21755 */display: inline-block !important;position: relative;}#sk-container-id-84 div.sk-text-repr-fallback {display: none;}</style><div id=\"sk-container-id-84\" class=\"sk-top-container\"><div class=\"sk-text-repr-fallback\"><pre>ColumnTransformer(transformers=[(&#x27;encoder&#x27;,\n",
       "                                 Pipeline(steps=[(&#x27;encoder&#x27;,\n",
       "                                                  OrdinalEncoder())]),\n",
       "                                 [&#x27;sample_type&#x27;]),\n",
       "                                (&#x27;encoder2&#x27;,\n",
       "                                 Pipeline(steps=[(&#x27;scaler&#x27;, StandardScaler())]),\n",
       "                                 [&#x27;v1&#x27;, &#x27;v2&#x27;, &#x27;v3&#x27;, &#x27;v4&#x27;, &#x27;v5&#x27;, &#x27;v6&#x27;, &#x27;v7&#x27;,\n",
       "                                  &#x27;v8&#x27;])])</pre><b>In a Jupyter environment, please rerun this cell to show the HTML representation or trust the notebook. <br />On GitHub, the HTML representation is unable to render, please try loading this page with nbviewer.org.</b></div><div class=\"sk-container\" hidden><div class=\"sk-item sk-dashed-wrapped\"><div class=\"sk-label-container\"><div class=\"sk-label sk-toggleable\"><input class=\"sk-toggleable__control sk-hidden--visually\" id=\"sk-estimator-id-298\" type=\"checkbox\" ><label for=\"sk-estimator-id-298\" class=\"sk-toggleable__label sk-toggleable__label-arrow\">ColumnTransformer</label><div class=\"sk-toggleable__content\"><pre>ColumnTransformer(transformers=[(&#x27;encoder&#x27;,\n",
       "                                 Pipeline(steps=[(&#x27;encoder&#x27;,\n",
       "                                                  OrdinalEncoder())]),\n",
       "                                 [&#x27;sample_type&#x27;]),\n",
       "                                (&#x27;encoder2&#x27;,\n",
       "                                 Pipeline(steps=[(&#x27;scaler&#x27;, StandardScaler())]),\n",
       "                                 [&#x27;v1&#x27;, &#x27;v2&#x27;, &#x27;v3&#x27;, &#x27;v4&#x27;, &#x27;v5&#x27;, &#x27;v6&#x27;, &#x27;v7&#x27;,\n",
       "                                  &#x27;v8&#x27;])])</pre></div></div></div><div class=\"sk-parallel\"><div class=\"sk-parallel-item\"><div class=\"sk-item\"><div class=\"sk-label-container\"><div class=\"sk-label sk-toggleable\"><input class=\"sk-toggleable__control sk-hidden--visually\" id=\"sk-estimator-id-299\" type=\"checkbox\" ><label for=\"sk-estimator-id-299\" class=\"sk-toggleable__label sk-toggleable__label-arrow\">encoder</label><div class=\"sk-toggleable__content\"><pre>[&#x27;sample_type&#x27;]</pre></div></div></div><div class=\"sk-serial\"><div class=\"sk-item\"><div class=\"sk-serial\"><div class=\"sk-item\"><div class=\"sk-estimator sk-toggleable\"><input class=\"sk-toggleable__control sk-hidden--visually\" id=\"sk-estimator-id-300\" type=\"checkbox\" ><label for=\"sk-estimator-id-300\" class=\"sk-toggleable__label sk-toggleable__label-arrow\">OrdinalEncoder</label><div class=\"sk-toggleable__content\"><pre>OrdinalEncoder()</pre></div></div></div></div></div></div></div></div><div class=\"sk-parallel-item\"><div class=\"sk-item\"><div class=\"sk-label-container\"><div class=\"sk-label sk-toggleable\"><input class=\"sk-toggleable__control sk-hidden--visually\" id=\"sk-estimator-id-301\" type=\"checkbox\" ><label for=\"sk-estimator-id-301\" class=\"sk-toggleable__label sk-toggleable__label-arrow\">encoder2</label><div class=\"sk-toggleable__content\"><pre>[&#x27;v1&#x27;, &#x27;v2&#x27;, &#x27;v3&#x27;, &#x27;v4&#x27;, &#x27;v5&#x27;, &#x27;v6&#x27;, &#x27;v7&#x27;, &#x27;v8&#x27;]</pre></div></div></div><div class=\"sk-serial\"><div class=\"sk-item\"><div class=\"sk-serial\"><div class=\"sk-item\"><div class=\"sk-estimator sk-toggleable\"><input class=\"sk-toggleable__control sk-hidden--visually\" id=\"sk-estimator-id-302\" type=\"checkbox\" ><label for=\"sk-estimator-id-302\" class=\"sk-toggleable__label sk-toggleable__label-arrow\">StandardScaler</label><div class=\"sk-toggleable__content\"><pre>StandardScaler()</pre></div></div></div></div></div></div></div></div></div></div></div></div>"
      ],
      "text/plain": [
       "ColumnTransformer(transformers=[('encoder',\n",
       "                                 Pipeline(steps=[('encoder',\n",
       "                                                  OrdinalEncoder())]),\n",
       "                                 ['sample_type']),\n",
       "                                ('encoder2',\n",
       "                                 Pipeline(steps=[('scaler', StandardScaler())]),\n",
       "                                 ['v1', 'v2', 'v3', 'v4', 'v5', 'v6', 'v7',\n",
       "                                  'v8'])])"
      ]
     },
     "execution_count": 1034,
     "metadata": {},
     "output_type": "execute_result"
    }
   ],
   "source": [
    "preprocessor"
   ]
  },
  {
   "attachments": {},
   "cell_type": "markdown",
   "metadata": {},
   "source": [
    "Now me make a code will apply the `preprocessor pipeline` you defined to the test data in `x_test` and return the `transformed test data.`"
   ]
  },
  {
   "cell_type": "code",
   "execution_count": 1035,
   "metadata": {},
   "outputs": [
    {
     "data": {
      "text/plain": [
       "array([[ 1.00000000e+00, -6.83833733e-01, -2.83870575e-01,\n",
       "        -5.43721853e-01,  6.08895346e-01,  2.32456744e-01,\n",
       "         8.68977608e-01,  3.76105240e-02,  1.56210219e+00],\n",
       "       [ 0.00000000e+00,  1.77521210e+00,  2.97524080e+00,\n",
       "         1.79920713e+00,  1.14947033e+00,  2.00721841e+00,\n",
       "         7.27951827e-02,  1.57474890e+00, -1.66229345e+00],\n",
       "       [ 1.00000000e+00, -3.34203411e-01, -6.40746799e-01,\n",
       "         1.50032450e-01, -1.26460164e+00,  3.88034605e-01,\n",
       "         4.00825563e-02,  1.72358026e-01, -1.25382398e+00],\n",
       "       [ 1.00000000e+00, -8.47225790e-01,  3.19695423e-01,\n",
       "        -9.12912769e-01,  4.47838315e-01, -8.49908037e-01,\n",
       "        -9.48791968e-01, -8.99836162e-01,  1.39272509e+00],\n",
       "       [ 1.00000000e+00, -1.42918796e+00,  1.75777913e-01,\n",
       "        -1.74397129e-01, -1.00811827e+00, -8.43900639e-01,\n",
       "         1.08031943e+00, -8.94633096e-01,  9.96152819e-01],\n",
       "       [ 0.00000000e+00, -5.56751134e-01, -7.91480160e-02,\n",
       "        -1.27671747e+00, -2.52198978e-01, -5.74446216e-01,\n",
       "        -8.44328145e-01, -1.67803914e-01,  1.51475768e+00],\n",
       "       [ 1.00000000e+00, -9.55309595e-01,  2.29074388e-01,\n",
       "        -1.24316967e+00,  6.30372136e-01, -1.32676816e+00,\n",
       "        -6.87794123e-01, -1.31284936e+00,  1.14301406e+00],\n",
       "       [ 1.00000000e+00, -5.70695478e-02, -1.98796636e-03,\n",
       "         1.23512889e-01,  9.96928115e-01,  2.35258124e-01,\n",
       "         6.44920489e-01,  4.00368267e-02,  5.06309587e-01],\n",
       "       [ 0.00000000e+00,  5.75159919e-01,  3.21625505e+00,\n",
       "         1.97246886e+00,  2.58791371e-01, -2.76954487e-01,\n",
       "         2.24160268e+00, -4.03595508e-01, -1.08979938e+00],\n",
       "       [ 0.00000000e+00,  9.11783276e-01,  1.51452579e+00,\n",
       "         7.49119811e-01,  1.28018231e-01,  1.80977962e+00,\n",
       "        -6.60175199e-01,  1.40374524e+00, -2.90252087e-01],\n",
       "       [ 1.00000000e+00, -1.51262777e+00, -1.33432125e+00,\n",
       "        -1.29887596e+00, -7.95611693e-01, -1.34427894e+00,\n",
       "         2.86464924e-01, -1.32801562e+00,  1.59927033e+00],\n",
       "       [ 0.00000000e+00, -4.44469750e-01,  5.68092322e-01,\n",
       "         6.87422008e-02, -1.11049775e+00,  1.00430641e-01,\n",
       "        -5.87892512e-02, -7.67385707e-02,  9.96851719e-01],\n",
       "       [ 1.00000000e+00, -8.85469886e-01, -1.21438604e-01,\n",
       "        -4.68833722e-03,  1.38411099e+00, -9.23011382e-01,\n",
       "        -2.17615904e-02, -9.63151682e-01,  1.77157073e-01],\n",
       "       [ 1.00000000e+00, -1.26801302e+00,  2.71126464e-01,\n",
       "        -5.88207640e-01, -1.15252652e+00, -1.22379972e+00,\n",
       "         5.23243030e-01, -1.22366739e+00,  1.25889077e+00],\n",
       "       [ 0.00000000e+00,  4.78952817e-02, -5.23341157e-01,\n",
       "        -7.15873861e-01,  1.10591160e+00, -1.33086758e-01,\n",
       "        -7.21005890e-01, -2.78990266e-01,  1.08121406e+00],\n",
       "       [ 0.00000000e+00, -1.28986024e+00, -4.37942851e-01,\n",
       "        -1.38587305e+00, -1.26151049e+00, -1.34221418e+00,\n",
       "        -7.18369958e-01, -1.32622731e+00, -6.94987030e-01],\n",
       "       [ 1.00000000e+00,  1.11215856e+00,  1.30994488e-01,\n",
       "         1.96264906e+00,  1.59032810e+00,  9.51028372e-01,\n",
       "         1.72798546e+00,  6.59972414e-01,  8.72749737e-01],\n",
       "       [ 1.00000000e+00, -5.29569206e-01,  2.72412928e-01,\n",
       "        -7.73196273e-01, -2.51855714e-01, -9.87404833e-01,\n",
       "        -3.48284213e-01, -1.01892348e+00,  1.26243569e+00],\n",
       "       [ 1.00000000e+00, -5.82349436e-01, -1.07893273e+00,\n",
       "        -1.11528077e+00, -1.03938816e+00, -5.80232997e-01,\n",
       "         3.86237191e-01, -6.66267981e-01,  1.03058166e+00],\n",
       "       [ 0.00000000e+00, -5.51025119e-01, -7.79911413e-02,\n",
       "         3.27207761e-01,  4.53150183e-01, -4.80209627e-01,\n",
       "         7.15410027e-01, -7.96551479e-02,  1.51815803e+00],\n",
       "       [ 0.00000000e+00,  4.81842833e-01,  6.04252875e-01,\n",
       "         9.47375100e-02,  1.15628479e+00,  4.25100710e-01,\n",
       "        -9.29182682e-01,  2.04461340e-01, -2.76621114e-01],\n",
       "       [ 0.00000000e+00,  3.09193219e-01, -2.13276500e-01,\n",
       "        -5.08485245e-02, -9.31409569e-01,  9.10087566e-01,\n",
       "        -2.70401127e-01,  6.24513183e-01, -7.59070815e-02],\n",
       "       [ 1.00000000e+00,  4.77237950e-01,  5.29122828e-01,\n",
       "         4.07275835e-02,  1.10728529e+00,  1.77296954e-01,\n",
       "        -2.27420405e-01, -1.01639076e-02,  5.14508712e-01],\n",
       "       [ 0.00000000e+00,  3.83124617e-01, -6.51257103e-01,\n",
       "        -8.07830822e-01,  2.31215288e-01,  4.69553865e-01,\n",
       "        -1.22541764e+00,  2.42962651e-01, -1.04249261e-01],\n",
       "       [ 0.00000000e+00, -8.83918422e-01, -1.17205982e-01,\n",
       "         6.53233595e-01, -7.31204906e-01, -1.74423962e-01,\n",
       "         1.12181417e+00,  1.16580131e+00,  1.40289557e+00],\n",
       "       [ 1.00000000e+00, -1.34478790e+00, -3.07577009e-02,\n",
       "        -1.61241411e-01, -2.63622515e-01, -1.34589575e+00,\n",
       "        -1.71962858e-01, -1.32941595e+00,  4.27033070e-01],\n",
       "       [ 0.00000000e+00,  8.21067046e-02, -8.62997611e-01,\n",
       "        -1.42460661e-01,  3.12070418e-01,  3.41340665e-01,\n",
       "        -3.70667244e-01,  6.88821784e-01, -7.89177029e-01],\n",
       "       [ 0.00000000e+00,  2.12578083e+00, -5.66005614e-01,\n",
       "         3.37186565e-01,  1.52207476e-01,  2.25743979e+00,\n",
       "        -1.75564344e-01,  1.79146808e+00, -1.04787071e+00],\n",
       "       [ 0.00000000e+00,  1.10415724e+00,  2.84931351e+00,\n",
       "         1.70867979e+00,  1.10707175e+00,  1.69692643e-01,\n",
       "         1.32435902e+00, -1.67500757e-02, -1.16322609e+00],\n",
       "       [ 1.00000000e+00, -1.22727226e+00,  9.23909171e-01,\n",
       "         3.24533892e-01, -1.46534770e+00, -2.29472681e-01,\n",
       "         3.50125773e-01, -3.62471053e-01,  1.01459962e+00],\n",
       "       [ 0.00000000e+00,  8.80870291e-01, -9.75061193e-03,\n",
       "        -8.29220294e-01,  5.57765722e-01, -1.96397249e-02,\n",
       "        -1.25728655e+00, -1.80732685e-01,  4.84919209e-01],\n",
       "       [ 0.00000000e+00, -4.90584516e-01, -6.54713519e-01,\n",
       "        -8.10315591e-01, -1.09067619e+00, -1.92913770e-01,\n",
       "        -1.28097085e+00, -3.30807024e-01, -1.11056323e+00],\n",
       "       [ 0.00000000e+00,  1.31361890e+00,  1.48558280e+00,\n",
       "         7.28313102e-01,  1.14361581e+00,  1.85270746e+00,\n",
       "         7.22748662e-01,  1.44092546e+00, -9.90876494e-01],\n",
       "       [ 1.00000000e+00,  3.05420837e-01, -2.20677880e-01,\n",
       "        -4.98293520e-01, -9.38162367e-02,  6.86666233e-02,\n",
       "        -3.20429096e-01, -1.04249696e-01,  7.16922163e-02],\n",
       "       [ 0.00000000e+00,  2.71087946e-01, -3.71018228e-01,\n",
       "        -2.65748199e-01,  1.43852908e+00, -6.49463373e-01,\n",
       "        -6.09339787e-01, -7.26229085e-01, -5.10572713e-01],\n",
       "       [ 1.00000000e+00, -1.03968971e+00, -7.93130038e-02,\n",
       "         2.18479978e-01, -7.91724727e-01, -1.27954370e+00,\n",
       "         5.70881270e-01, -1.27194780e+00,  2.93236379e-01],\n",
       "       [ 1.00000000e+00, -9.47950980e-01,  1.05870936e-01,\n",
       "         1.22963125e-01, -9.05876313e-01, -4.23852185e-01,\n",
       "         2.11636982e-01, -5.30825036e-01,  8.03520466e-01],\n",
       "       [ 1.00000000e+00, -7.71929203e-02, -7.26852299e-01,\n",
       "        -3.57613807e-01, -1.41244668e+00, -2.73558096e-01,\n",
       "        -6.10847356e-01, -4.00653861e-01, -1.49109221e+00],\n",
       "       [ 0.00000000e+00,  1.16163533e+00, -6.37216360e-01,\n",
       "        -1.12385400e+00,  8.21377338e-01,  7.20286284e-01,\n",
       "        -1.21590730e+00,  4.60124443e-01, -1.24409567e+00],\n",
       "       [ 0.00000000e+00,  8.07789788e-01,  5.84845759e-02,\n",
       "        -2.97607586e-01,  4.64913827e-01,  1.00450513e+00,\n",
       "        -2.44144688e-01,  7.06289157e-01,  5.19382524e-01],\n",
       "       [ 1.00000000e+00,  3.23533630e-01, -2.40221935e-01,\n",
       "         6.60572822e-01, -2.86195563e-01,  9.36517734e-01,\n",
       "         1.35323508e+00,  6.47404609e-01, -1.50156646e-01],\n",
       "       [ 1.00000000e+00,  1.26167600e+00, -1.09050959e+00,\n",
       "        -9.69445385e-01,  2.00107079e+00,  9.85385870e-01,\n",
       "        -6.64496563e-01,  2.39862450e+00, -1.45789301e+00],\n",
       "       [ 0.00000000e+00, -7.63878809e-01, -4.84169859e-01,\n",
       "        -9.65169487e-01, -9.52476835e-01,  3.20593641e-01,\n",
       "        -1.25829883e+00,  1.13946750e-01, -8.22367982e-01],\n",
       "       [ 0.00000000e+00,  2.22955291e-01,  2.45571381e-01,\n",
       "        -1.63113533e-01, -2.23361814e-01,  3.97379315e-01,\n",
       "        -1.11914005e+00,  1.80451570e-01,  5.10334817e-01],\n",
       "       [ 0.00000000e+00, -9.87200209e-01,  3.79158400e-01,\n",
       "        -6.70797182e-02, -1.17895840e+00, -6.79377317e-01,\n",
       "        -5.01580451e-01,  6.29059690e-01, -3.20414631e-01],\n",
       "       [ 0.00000000e+00,  4.51716851e-01, -1.04799905e+00,\n",
       "         1.45136061e+00,  4.19492455e-01,  9.33442834e-01,\n",
       "        -4.09411298e-01,  1.24267328e+00, -1.33294365e+00],\n",
       "       [ 0.00000000e+00,  2.52501517e+00,  3.12477632e+00,\n",
       "         1.90670610e+00,  2.18209776e+00,  2.38099979e+00,\n",
       "         6.92445300e-02,  1.89848459e+00, -1.73912646e+00],\n",
       "       [ 0.00000000e+00,  2.46687088e+00, -6.96800028e-01,\n",
       "         2.08215998e+00,  1.65483499e+00,  2.36442485e+00,\n",
       "         9.48864333e-02,  1.88412888e+00, -1.40828160e+00],\n",
       "       [ 0.00000000e+00, -2.56997299e-01, -5.22075935e-01,\n",
       "        -6.47472717e-02,  2.30089732e-01,  8.89601242e-01,\n",
       "        -8.57129234e-01,  6.06769778e-01, -9.26820169e-01],\n",
       "       [ 1.00000000e+00, -1.16822301e+00,  3.28390095e-01,\n",
       "        -1.03576333e-01, -1.08726123e+00, -7.90149104e-01,\n",
       "         1.08155651e-01, -8.48078368e-01,  1.27798227e+00],\n",
       "       [ 0.00000000e+00,  1.85926617e+00, -8.05102037e-01,\n",
       "         2.01841853e+00,  6.97229656e-01,  1.67710090e+00,\n",
       "         1.12214017e+00,  1.28883090e+00, -1.70671348e+00],\n",
       "       [ 0.00000000e+00,  1.73463401e+00,  2.27181360e+00,\n",
       "         1.29352329e+00,  1.83080702e+00,  1.21727586e+00,\n",
       "         5.09647023e-01,  8.90571959e-01, -1.53524424e-01],\n",
       "       [ 0.00000000e+00,  2.63833881e-01,  2.62016036e-01,\n",
       "        -1.02000223e+00,  1.44024411e+00, -5.52657360e-01,\n",
       "        -1.17495726e+00, -6.42384453e-01,  1.23378650e+00],\n",
       "       [ 0.00000000e+00,  1.09208498e+00,  1.24941014e+00,\n",
       "         5.58531923e-01,  1.41477461e+00,  1.04473697e+00,\n",
       "        -2.62624601e-01,  7.41134346e-01, -1.06129481e+00],\n",
       "       [ 0.00000000e+00,  1.73036133e+00,  3.43483168e+00,\n",
       "         2.12960050e+00,  1.09014222e+00,  2.22542697e+00,\n",
       "         2.21398782e+00,  1.76374146e+00, -1.69786337e+00],\n",
       "       [ 1.00000000e+00,  6.34190272e-01, -9.95673380e-01,\n",
       "         1.46091478e+00, -1.05398632e+00, -5.51171855e-01,\n",
       "         9.63885579e-01, -1.46033111e-01, -1.17914510e+00],\n",
       "       [ 0.00000000e+00, -5.09732134e-01, -2.66114272e-01,\n",
       "         1.37737442e+00, -1.22247381e+00,  8.36335850e-03,\n",
       "         1.22835974e+00, -1.56478941e-01, -2.21504341e-01],\n",
       "       [ 1.00000000e+00, -1.09163513e+00,  2.38754160e+00,\n",
       "         1.37671850e+00, -5.99837061e-01,  6.38058795e-01,\n",
       "         1.99155962e+00,  3.88906413e-01,  1.60436287e+00],\n",
       "       [ 0.00000000e+00, -9.84682234e-01,  6.52552696e-02,\n",
       "        -2.92740231e-01, -9.97897906e-01, -9.24407004e-01,\n",
       "         1.07270148e-01, -9.64360443e-01, -2.20122041e-01],\n",
       "       [ 0.00000000e+00, -6.48735807e-01, -4.44597082e-01,\n",
       "         6.34502705e-01, -5.75304644e-01, -2.96693995e-01,\n",
       "        -2.38827785e-02, -4.20692089e-01, -7.13323114e-01],\n",
       "       [ 0.00000000e+00,  9.32192991e-01,  2.22766034e+00,\n",
       "         1.26178213e+00, -1.05427607e+00,  2.01275789e+00,\n",
       "        -7.06298279e-01,  2.25226299e+00, -1.62189906e+00],\n",
       "       [ 0.00000000e+00, -4.55474452e-01,  1.57116281e+00,\n",
       "         7.89835361e-01, -9.91090572e-01,  1.84581215e-01,\n",
       "         1.26162831e+00, -3.85493829e-03,  5.93135134e-01],\n",
       "       [ 1.00000000e+00, -8.25311222e-01, -6.13073099e-02,\n",
       "         1.15743365e+00,  4.26276510e-01, -1.86393931e-01,\n",
       "         1.45601183e+00, -3.25160128e-01,  3.42852016e-01],\n",
       "       [ 0.00000000e+00,  4.54702107e-01, -3.78016624e-01,\n",
       "         1.49568766e+00, -1.07302714e+00,  1.74807455e-01,\n",
       "         1.61430498e+00, -1.23200869e-02, -5.29857160e-01],\n",
       "       [ 0.00000000e+00, -1.24503898e+00, -1.31420037e-01,\n",
       "        -1.32798423e+00, -1.17994167e+00, -7.97071614e-01,\n",
       "        -1.13372483e+00, -8.54074021e-01,  1.49652707e-01],\n",
       "       [ 0.00000000e+00,  2.19675927e+00,  3.42010742e+00,\n",
       "         2.11901544e+00,  1.45879548e+00,  1.61157618e+00,\n",
       "         2.69524611e+00,  1.23207931e+00, -1.68844395e-01],\n",
       "       [ 0.00000000e+00, -9.19269484e-02, -4.10172853e-01,\n",
       "         7.52454547e-01,  2.03828037e-01,  1.24147524e-01,\n",
       "         7.55803080e-01,  4.85659640e-01,  5.41790907e-01],\n",
       "       [ 1.00000000e+00,  1.40203045e+00, -5.29114001e-01,\n",
       "        -5.32269152e-01,  1.85053451e+00,  3.10519615e-01,\n",
       "        -5.00726897e-01,  1.05221538e-01, -9.46213930e-01],\n",
       "       [ 1.00000000e+00, -1.21849635e-01, -2.93541568e-01,\n",
       "        -5.50674193e-01,  3.51078541e-01,  8.17195718e-01,\n",
       "         1.14283532e-01,  5.44058649e-01,  3.51884285e-01],\n",
       "       [ 1.00000000e+00, -1.46158474e+00, -1.13147619e+00,\n",
       "        -1.15305352e+00, -1.46524527e+00, -1.05575781e+00,\n",
       "        -8.42582730e-01,  2.28984961e-01,  2.99512699e-01],\n",
       "       [ 0.00000000e+00, -2.73178235e-01, -2.00540961e-01,\n",
       "        -4.83817374e-01,  1.72085625e-01, -7.63974515e-01,\n",
       "        -3.29566677e-01, -8.25408301e-01,  1.22666798e+00],\n",
       "       [ 0.00000000e+00, -1.51525947e+00, -1.59467700e+00,\n",
       "        -1.48604201e+00, -7.38404471e-01, -1.38381353e+00,\n",
       "        -1.05922319e+00, -1.19722805e-01,  1.64017495e+00],\n",
       "       [ 1.00000000e+00,  2.28615689e+00,  6.92351292e-02,\n",
       "        -1.62320334e-01,  2.11958164e+00,  2.06916721e+00,\n",
       "         3.24409588e-01,  1.62840336e+00,  7.02568574e-01],\n",
       "       [ 1.00000000e+00, -7.78889145e-01, -3.26833466e-01,\n",
       "         1.33467597e+00, -9.30436100e-01, -1.72911443e-01,\n",
       "         1.65805205e+00, -3.13482814e-01, -3.88819277e-01],\n",
       "       [ 1.00000000e+00, -1.47557485e+00, -1.40500545e+00,\n",
       "        -1.34968982e+00, -1.48946199e+00, -1.35987597e+00,\n",
       "        -7.92058486e-01, -1.34152436e+00,  1.23217931e+00],\n",
       "       [ 0.00000000e+00,  3.92009456e-02, -1.94166982e-01,\n",
       "         1.17064976e+00, -1.07845572e+00,  4.88630369e-01,\n",
       "         1.15551758e+00,  2.59484997e-01, -2.32498005e-02],\n",
       "       [ 0.00000000e+00, -3.48878361e-01,  1.39931173e+00,\n",
       "         6.66294056e-01, -7.97935269e-01, -6.34792517e-01,\n",
       "         2.01009826e-01, -7.13522513e-01, -9.14851897e-01],\n",
       "       [ 0.00000000e+00,  1.59766892e+00, -1.14176192e-01,\n",
       "        -4.21730966e-01,  1.09281507e+00,  1.42664829e+00,\n",
       "        -9.95026391e-01,  1.07191146e+00, -1.50838469e+00],\n",
       "       [ 1.00000000e+00, -2.74106898e-01,  1.30492553e-01,\n",
       "         5.82875505e-01, -8.66685741e-01,  2.75309337e-01,\n",
       "         4.25305296e-03,  7.47255727e-02,  8.71366627e-01],\n",
       "       [ 0.00000000e+00,  4.73184828e-01, -4.61454199e-01,\n",
       "         5.09664698e-01,  1.13076653e-01, -1.85768098e-01,\n",
       "        -6.06978404e-01, -3.24618088e-01, -7.59773788e-01],\n",
       "       [ 0.00000000e+00, -7.16033970e-03, -6.17065342e-01,\n",
       "        -7.30817742e-01, -2.24223632e-01,  2.01389079e-01,\n",
       "        -1.06624131e+00,  1.07025164e-02, -1.18856848e+00],\n",
       "       [ 0.00000000e+00, -4.94054385e-01, -9.07265371e-01,\n",
       "        -9.91871538e-01, -1.30345017e+00, -1.36861479e-01,\n",
       "        -6.43895217e-01, -2.82259589e-01,  3.65905626e-01],\n",
       "       [ 1.00000000e+00,  9.80150650e-01, -8.02210333e-01,\n",
       "         9.95739899e-01,  1.43859795e+00,  8.46978402e-01,\n",
       "        -2.81326573e-01,  5.69853721e-01, -1.69874524e+00],\n",
       "       [ 0.00000000e+00,  9.36885038e-01, -2.33006630e-02,\n",
       "        -3.56401836e-01,  1.32353610e+00,  5.91719798e-01,\n",
       "        -1.58958221e-01,  3.48771757e-01, -1.04441657e+00],\n",
       "       [ 1.00000000e+00, -4.69782674e-01, -2.89777026e-01,\n",
       "         1.52834826e-01, -1.92018880e-01, -8.54590758e-01,\n",
       "        -1.71523136e-02, -9.03891912e-01, -2.86708306e-01],\n",
       "       [ 1.00000000e+00, -9.05970044e-01,  2.51217037e-01,\n",
       "        -1.13416519e+00, -1.94316367e-01, -8.22498727e-01,\n",
       "         8.83631957e-02, -8.76096691e-01,  1.20402930e+00],\n",
       "       [ 0.00000000e+00, -8.72214960e-01, -5.59216772e-02,\n",
       "        -1.20704353e+00, -3.69949762e-01, -1.28595457e+00,\n",
       "        -1.00549260e+00, -1.27750031e+00,  3.57692410e-01],\n",
       "       [ 0.00000000e+00,  9.29959785e-01, -1.16469109e+00,\n",
       "        -1.17693124e+00,  2.01861102e+00, -2.25041479e-02,\n",
       "        -7.25168083e-01, -1.83213590e-01,  1.18699036e+00],\n",
       "       [ 0.00000000e+00,  1.38680276e+00, -6.94849464e-01,\n",
       "         7.00588493e-01,  1.88602002e+00,  1.96412059e+00,\n",
       "        -1.56298583e-02,  1.53742146e+00, -1.40290672e+00],\n",
       "       [ 0.00000000e+00,  1.11156494e+00, -5.91325459e-01,\n",
       "         1.15734984e+00,  1.16374976e+00,  6.10665339e-01,\n",
       "         7.12328998e-01,  2.00031423e+00,  9.33700453e-03],\n",
       "       [ 0.00000000e+00,  1.21480449e+00,  2.80793163e+00,\n",
       "         1.67893094e+00,  9.78462034e-02,  1.61438975e+00,\n",
       "         8.96466567e-01,  1.23451617e+00, -1.14793791e+00],\n",
       "       [ 0.00000000e+00,  2.25189457e+00, -3.00308660e-01,\n",
       "         2.06042352e+00,  1.87431028e+00,  2.37573382e+00,\n",
       "         6.81796024e-01,  1.89392369e+00, -3.15728776e-01],\n",
       "       [ 1.00000000e+00, -1.07490560e+00,  3.72199349e-01,\n",
       "         6.64604427e-01, -7.31207396e-01, -1.02255970e+00,\n",
       "         8.66491235e-01, -1.04937145e+00,  1.53740242e+00],\n",
       "       [ 0.00000000e+00,  2.06345992e+00,  2.98643471e+00,\n",
       "         1.80725428e+00,  1.37878595e+00,  2.17311223e+00,\n",
       "         1.08256164e+00,  1.71843116e+00, -1.78637442e-01],\n",
       "       [ 0.00000000e+00, -1.13666967e+00,  3.10514586e+00,\n",
       "         1.89259404e+00, -1.33667247e+00, -4.53053722e-01,\n",
       "         2.28865668e+00, -5.56116772e-01, -7.33104688e-01],\n",
       "       [ 1.00000000e+00, -7.41635548e-01,  9.29259047e-02,\n",
       "         1.53200670e+00, -7.66694257e-01, -5.94469369e-01,\n",
       "         2.05401567e+00, -6.78598242e-01,  7.67849752e-01],\n",
       "       [ 0.00000000e+00,  7.74907223e-01, -9.46034557e-01,\n",
       "         2.28001670e-01,  2.09103822e+00,  1.00789285e+00,\n",
       "        -1.52315763e-01,  2.42254836e+00, -1.03324388e+00],\n",
       "       [ 1.00000000e+00, -9.91308589e-01, -4.83592262e-02,\n",
       "        -1.19712212e+00, -4.68215914e-01, -1.25392569e+00,\n",
       "        -9.36759907e-01, -1.24975979e+00,  3.78531142e-01],\n",
       "       [ 1.00000000e+00, -1.29590878e+00, -3.27162243e-01,\n",
       "        -9.60819637e-01, -1.17918339e+00, -1.25111206e+00,\n",
       "        -9.03233962e-01,  2.13326028e-02,  7.85780350e-01],\n",
       "       [ 0.00000000e+00, -1.94337120e-01, -3.30707870e-01,\n",
       "        -5.77392521e-01,  1.25861074e+00, -5.13136156e-01,\n",
       "        -5.24596788e-01, -6.08154754e-01, -1.31113529e+00]])"
      ]
     },
     "execution_count": 1035,
     "metadata": {},
     "output_type": "execute_result"
    }
   ],
   "source": [
    "test_tr = preprocessor.transform(x_test)\n",
    "test_tr"
   ]
  },
  {
   "attachments": {},
   "cell_type": "markdown",
   "metadata": {},
   "source": [
    "`Now data is already preprocessed data, we can now build a machine learning model to make predictions.`"
   ]
  },
  {
   "attachments": {},
   "cell_type": "markdown",
   "metadata": {},
   "source": [
    "# MODEL"
   ]
  },
  {
   "attachments": {},
   "cell_type": "markdown",
   "metadata": {},
   "source": [
    "### MODEL DEFINITION"
   ]
  },
  {
   "attachments": {},
   "cell_type": "markdown",
   "metadata": {},
   "source": [
    "The models defined by the code are regression models. Regression is a type of machine learning, where the goal is to predict a continuous output variable based on one or more input variables.\n",
    "\n",
    "1. `lr_model` = LinearRegression() creates a linear regression model using the ordinary least squares method.\n",
    "2. `svr_model` = SVR() creates a support vector regression model, which uses support vector machines to perform regression.\n",
    "3. `dtr_model` = DecisionTreeRegressor() creates a decision tree regression model, which uses a decision tree to make predictions.\n",
    "4. `rfr_model` = RandomForestRegressor() creates a random forest regression model, which combines multiple decision trees to make predictions.\n",
    "5. `knr_model` = KNeighborsRegressor() creates a k-nearest neighbors regression model, which predicts the target variable based on the values of the k-nearest neighbors.\n",
    "6. `gbr_model` = GradientBoostingRegressor() creates a gradient boosting regression model, which combines multiple weak learners to make a stronger prediction."
   ]
  },
  {
   "cell_type": "code",
   "execution_count": 1036,
   "metadata": {},
   "outputs": [],
   "source": [
    "lr_model = LinearRegression()\n",
    "\n",
    "svr_model = SVR()\n",
    "\n",
    "dtr_model = DecisionTreeRegressor()\n",
    "\n",
    "rfr_model = RandomForestRegressor()\n",
    "\n",
    "knr_model = KNeighborsRegressor()\n",
    "\n",
    "gbr_model = GradientBoostingRegressor()"
   ]
  },
  {
   "attachments": {},
   "cell_type": "markdown",
   "metadata": {},
   "source": [
    "### CROSS VALIDATION"
   ]
  },
  {
   "attachments": {},
   "cell_type": "markdown",
   "metadata": {},
   "source": [
    "Performs `cross-validation` on a set of machine learning models to evaluate their performance on the `preprocessed training data`. The models are stored in a dictionary called models, where the keys are model names and the values are the corresponding machine learning model objects. For each model, the code prints the mean and standard deviation of the `R2 score and the negative mean absolute error (MAE)` score across the cross-validation folds. The R2 score is a measure of how well the model fits the data, with higher scores indicating a better fit. The MAE score is a measure of the average absolute difference between the predicted and actual target values, with lower scores indicating better performance.\n",
    "\n"
   ]
  },
  {
   "cell_type": "code",
   "execution_count": 1037,
   "metadata": {},
   "outputs": [
    {
     "name": "stdout",
     "output_type": "stream",
     "text": [
      "lr: R2=0.681 (0.052), MAE=0.074 (0.005)\n",
      "svr: R2=0.605 (0.064), MAE=0.084 (0.004)\n",
      "dtr: R2=0.381 (0.059), MAE=0.102 (0.007)\n",
      "rfr: R2=0.646 (0.060), MAE=0.078 (0.007)\n",
      "knr: R2=0.555 (0.067), MAE=0.090 (0.007)\n",
      "gbr: R2=0.641 (0.065), MAE=0.079 (0.007)\n",
      "Best model based on R2 score: lr\n"
     ]
    }
   ],
   "source": [
    "models = {'lr': lr_model, 'svr': svr_model, 'dtr': dtr_model, 'rfr': rfr_model, 'knr': knr_model, 'gbr': gbr_model}\n",
    "\n",
    "# Define the scoring functions\n",
    "scoring = {'r2': 'r2', 'mae': 'neg_mean_absolute_error'}\n",
    "\n",
    "# Perform cross-validation for each model and print the results\n",
    "for name, model in models.items():\n",
    "    scores = cross_validate(model, X_train_transformed, y_train, cv=5, scoring=scoring)\n",
    "    r2_mean = scores['test_r2'].mean()\n",
    "    r2_std = scores['test_r2'].std()\n",
    "    mae_mean = -scores['test_mae'].mean()\n",
    "    mae_std = scores['test_mae'].std()\n",
    "    print(f'{name}: R2={r2_mean:.3f} ({r2_std:.3f}), MAE={mae_mean:.3f} ({mae_std:.3f})')\n",
    "\n",
    "# Find the best model based on the R2 score\n",
    "best_model = max(models, key=lambda x: cross_validate(models[x], X_train_transformed, y_train, cv=5, scoring=scoring)['test_r2'].mean())\n",
    "print(f'Best model based on R2 score: {best_model}')"
   ]
  },
  {
   "attachments": {},
   "cell_type": "markdown",
   "metadata": {},
   "source": [
    "the best model based on the `R2 score is the linear regression model`. The R2 score of the `linear regression` model on the test set is `0.673`, which means that the model explains `67.3%` of the variance in the target variable. The mean absolute error (MAE) of the l`inear regression model` on the test set is `0.079.` This means that on average, the model's predictions are off by `0.079` units from the true values."
   ]
  },
  {
   "attachments": {},
   "cell_type": "markdown",
   "metadata": {},
   "source": [
    "### MODEL TRAINING LINEAR REGRESSION"
   ]
  },
  {
   "attachments": {},
   "cell_type": "markdown",
   "metadata": {},
   "source": [
    " fits the linear regression model to the training data. The `X_train_transformed` is the preprocessed training data, where the categorical variables have been encoded and the numerical variables have been scaled."
   ]
  },
  {
   "cell_type": "code",
   "execution_count": 1038,
   "metadata": {},
   "outputs": [
    {
     "data": {
      "text/html": [
       "<style>#sk-container-id-85 {color: black;background-color: white;}#sk-container-id-85 pre{padding: 0;}#sk-container-id-85 div.sk-toggleable {background-color: white;}#sk-container-id-85 label.sk-toggleable__label {cursor: pointer;display: block;width: 100%;margin-bottom: 0;padding: 0.3em;box-sizing: border-box;text-align: center;}#sk-container-id-85 label.sk-toggleable__label-arrow:before {content: \"▸\";float: left;margin-right: 0.25em;color: #696969;}#sk-container-id-85 label.sk-toggleable__label-arrow:hover:before {color: black;}#sk-container-id-85 div.sk-estimator:hover label.sk-toggleable__label-arrow:before {color: black;}#sk-container-id-85 div.sk-toggleable__content {max-height: 0;max-width: 0;overflow: hidden;text-align: left;background-color: #f0f8ff;}#sk-container-id-85 div.sk-toggleable__content pre {margin: 0.2em;color: black;border-radius: 0.25em;background-color: #f0f8ff;}#sk-container-id-85 input.sk-toggleable__control:checked~div.sk-toggleable__content {max-height: 200px;max-width: 100%;overflow: auto;}#sk-container-id-85 input.sk-toggleable__control:checked~label.sk-toggleable__label-arrow:before {content: \"▾\";}#sk-container-id-85 div.sk-estimator input.sk-toggleable__control:checked~label.sk-toggleable__label {background-color: #d4ebff;}#sk-container-id-85 div.sk-label input.sk-toggleable__control:checked~label.sk-toggleable__label {background-color: #d4ebff;}#sk-container-id-85 input.sk-hidden--visually {border: 0;clip: rect(1px 1px 1px 1px);clip: rect(1px, 1px, 1px, 1px);height: 1px;margin: -1px;overflow: hidden;padding: 0;position: absolute;width: 1px;}#sk-container-id-85 div.sk-estimator {font-family: monospace;background-color: #f0f8ff;border: 1px dotted black;border-radius: 0.25em;box-sizing: border-box;margin-bottom: 0.5em;}#sk-container-id-85 div.sk-estimator:hover {background-color: #d4ebff;}#sk-container-id-85 div.sk-parallel-item::after {content: \"\";width: 100%;border-bottom: 1px solid gray;flex-grow: 1;}#sk-container-id-85 div.sk-label:hover label.sk-toggleable__label {background-color: #d4ebff;}#sk-container-id-85 div.sk-serial::before {content: \"\";position: absolute;border-left: 1px solid gray;box-sizing: border-box;top: 0;bottom: 0;left: 50%;z-index: 0;}#sk-container-id-85 div.sk-serial {display: flex;flex-direction: column;align-items: center;background-color: white;padding-right: 0.2em;padding-left: 0.2em;position: relative;}#sk-container-id-85 div.sk-item {position: relative;z-index: 1;}#sk-container-id-85 div.sk-parallel {display: flex;align-items: stretch;justify-content: center;background-color: white;position: relative;}#sk-container-id-85 div.sk-item::before, #sk-container-id-85 div.sk-parallel-item::before {content: \"\";position: absolute;border-left: 1px solid gray;box-sizing: border-box;top: 0;bottom: 0;left: 50%;z-index: -1;}#sk-container-id-85 div.sk-parallel-item {display: flex;flex-direction: column;z-index: 1;position: relative;background-color: white;}#sk-container-id-85 div.sk-parallel-item:first-child::after {align-self: flex-end;width: 50%;}#sk-container-id-85 div.sk-parallel-item:last-child::after {align-self: flex-start;width: 50%;}#sk-container-id-85 div.sk-parallel-item:only-child::after {width: 0;}#sk-container-id-85 div.sk-dashed-wrapped {border: 1px dashed gray;margin: 0 0.4em 0.5em 0.4em;box-sizing: border-box;padding-bottom: 0.4em;background-color: white;}#sk-container-id-85 div.sk-label label {font-family: monospace;font-weight: bold;display: inline-block;line-height: 1.2em;}#sk-container-id-85 div.sk-label-container {text-align: center;}#sk-container-id-85 div.sk-container {/* jupyter's `normalize.less` sets `[hidden] { display: none; }` but bootstrap.min.css set `[hidden] { display: none !important; }` so we also need the `!important` here to be able to override the default hidden behavior on the sphinx rendered scikit-learn.org. See: https://github.com/scikit-learn/scikit-learn/issues/21755 */display: inline-block !important;position: relative;}#sk-container-id-85 div.sk-text-repr-fallback {display: none;}</style><div id=\"sk-container-id-85\" class=\"sk-top-container\"><div class=\"sk-text-repr-fallback\"><pre>LinearRegression()</pre><b>In a Jupyter environment, please rerun this cell to show the HTML representation or trust the notebook. <br />On GitHub, the HTML representation is unable to render, please try loading this page with nbviewer.org.</b></div><div class=\"sk-container\" hidden><div class=\"sk-item\"><div class=\"sk-estimator sk-toggleable\"><input class=\"sk-toggleable__control sk-hidden--visually\" id=\"sk-estimator-id-303\" type=\"checkbox\" checked><label for=\"sk-estimator-id-303\" class=\"sk-toggleable__label sk-toggleable__label-arrow\">LinearRegression</label><div class=\"sk-toggleable__content\"><pre>LinearRegression()</pre></div></div></div></div></div>"
      ],
      "text/plain": [
       "LinearRegression()"
      ]
     },
     "execution_count": 1038,
     "metadata": {},
     "output_type": "execute_result"
    }
   ],
   "source": [
    "lr_model.fit(X_train_transformed, y_train)"
   ]
  },
  {
   "attachments": {},
   "cell_type": "markdown",
   "metadata": {},
   "source": [
    "The `R2 score` for the train set is `0.7076` and for the test set is `0.6732`. This indicates that the model has captured about 70% of the variance in the train set and about 67% of the variance in the test set. The difference between the R2 scores of the train and test sets is not too large, which indicates that the model is not overfitting or underfitting. The model seems to be performing reasonably well. However, it may be possible to improve its performance by using a different algorithm or by fine-tuning the hyperparameters of the current algorithm."
   ]
  },
  {
   "cell_type": "code",
   "execution_count": 1042,
   "metadata": {},
   "outputs": [
    {
     "name": "stdout",
     "output_type": "stream",
     "text": [
      "r2score train =  0.7076271347515374\n",
      "r2score test =  0.6732488065124997\n",
      "Error Train-Set :  0.07194424921400483\n",
      "Error Test-Set  :  0.07920279961127824\n"
     ]
    },
    {
     "data": {
      "image/png": "[encoded data removed]",
      "text/plain": [
       "<Figure size 640x480 with 1 Axes>"
      ]
     },
     "metadata": {},
     "output_type": "display_data"
    }
   ],
   "source": [
    "y_pred_train = lr_model.predict(X_train_transformed)\n",
    "y_pred_test = lr_model.predict(test_tr)\n",
    "print('r2score train = ', r2_score(y_train, y_pred_train))\n",
    "print('r2score test = ', r2_score(y_test, y_pred_test))\n",
    "print('Error Train-Set : ', mean_absolute_error(y_train, y_pred_train))\n",
    "print('Error Test-Set  : ', mean_absolute_error(y_test, y_pred_test))\n",
    "\n",
    "plt.scatter(y_train, y_pred_train, color='blue', label='train') \n",
    "plt.scatter(y_test, y_pred_test, color='red', label='test') \n",
    "plt.legend()\n",
    "plt.show()\n",
    " "
   ]
  },
  {
   "attachments": {},
   "cell_type": "markdown",
   "metadata": {},
   "source": [
    "# Hyperparameter Tuning"
   ]
  },
  {
   "attachments": {},
   "cell_type": "markdown",
   "metadata": {},
   "source": [
    "### RANDOM SEARCH"
   ]
  },
  {
   "attachments": {},
   "cell_type": "markdown",
   "metadata": {},
   "source": [
    "These are the hyperparameters that we will be tuning using `RandomizedSearchCV`"
   ]
  },
  {
   "cell_type": "code",
   "execution_count": 1043,
   "metadata": {},
   "outputs": [],
   "source": [
    "param = {\n",
    "    'fit_intercept': [True, False],\n",
    "    'copy_X': [True, False],\n",
    "    'positive': [True, False],\n",
    "    'n_jobs': [-1, 1, 2]\n",
    "}\n"
   ]
  },
  {
   "attachments": {},
   "cell_type": "markdown",
   "metadata": {},
   "source": [
    "`RandomizedSearchCV` object that will be used to search over hyperparameters for a `LinearRegression model`. The hyperparameters to search over are specified in the param dictionary, which includes options for `fit_intercept, copy_X, positive, and n_jobs.`"
   ]
  },
  {
   "cell_type": "code",
   "execution_count": 1044,
   "metadata": {},
   "outputs": [],
   "source": [
    "lr_random_search = RandomizedSearchCV(estimator=lr_model, \n",
    "                                      param_distributions=param, \n",
    "                                      n_iter=50, \n",
    "                                      cv=5, \n",
    "                                      n_jobs=-1)"
   ]
  },
  {
   "cell_type": "code",
   "execution_count": 1045,
   "metadata": {},
   "outputs": [
    {
     "data": {
      "text/html": [
       "<style>#sk-container-id-86 {color: black;background-color: white;}#sk-container-id-86 pre{padding: 0;}#sk-container-id-86 div.sk-toggleable {background-color: white;}#sk-container-id-86 label.sk-toggleable__label {cursor: pointer;display: block;width: 100%;margin-bottom: 0;padding: 0.3em;box-sizing: border-box;text-align: center;}#sk-container-id-86 label.sk-toggleable__label-arrow:before {content: \"▸\";float: left;margin-right: 0.25em;color: #696969;}#sk-container-id-86 label.sk-toggleable__label-arrow:hover:before {color: black;}#sk-container-id-86 div.sk-estimator:hover label.sk-toggleable__label-arrow:before {color: black;}#sk-container-id-86 div.sk-toggleable__content {max-height: 0;max-width: 0;overflow: hidden;text-align: left;background-color: #f0f8ff;}#sk-container-id-86 div.sk-toggleable__content pre {margin: 0.2em;color: black;border-radius: 0.25em;background-color: #f0f8ff;}#sk-container-id-86 input.sk-toggleable__control:checked~div.sk-toggleable__content {max-height: 200px;max-width: 100%;overflow: auto;}#sk-container-id-86 input.sk-toggleable__control:checked~label.sk-toggleable__label-arrow:before {content: \"▾\";}#sk-container-id-86 div.sk-estimator input.sk-toggleable__control:checked~label.sk-toggleable__label {background-color: #d4ebff;}#sk-container-id-86 div.sk-label input.sk-toggleable__control:checked~label.sk-toggleable__label {background-color: #d4ebff;}#sk-container-id-86 input.sk-hidden--visually {border: 0;clip: rect(1px 1px 1px 1px);clip: rect(1px, 1px, 1px, 1px);height: 1px;margin: -1px;overflow: hidden;padding: 0;position: absolute;width: 1px;}#sk-container-id-86 div.sk-estimator {font-family: monospace;background-color: #f0f8ff;border: 1px dotted black;border-radius: 0.25em;box-sizing: border-box;margin-bottom: 0.5em;}#sk-container-id-86 div.sk-estimator:hover {background-color: #d4ebff;}#sk-container-id-86 div.sk-parallel-item::after {content: \"\";width: 100%;border-bottom: 1px solid gray;flex-grow: 1;}#sk-container-id-86 div.sk-label:hover label.sk-toggleable__label {background-color: #d4ebff;}#sk-container-id-86 div.sk-serial::before {content: \"\";position: absolute;border-left: 1px solid gray;box-sizing: border-box;top: 0;bottom: 0;left: 50%;z-index: 0;}#sk-container-id-86 div.sk-serial {display: flex;flex-direction: column;align-items: center;background-color: white;padding-right: 0.2em;padding-left: 0.2em;position: relative;}#sk-container-id-86 div.sk-item {position: relative;z-index: 1;}#sk-container-id-86 div.sk-parallel {display: flex;align-items: stretch;justify-content: center;background-color: white;position: relative;}#sk-container-id-86 div.sk-item::before, #sk-container-id-86 div.sk-parallel-item::before {content: \"\";position: absolute;border-left: 1px solid gray;box-sizing: border-box;top: 0;bottom: 0;left: 50%;z-index: -1;}#sk-container-id-86 div.sk-parallel-item {display: flex;flex-direction: column;z-index: 1;position: relative;background-color: white;}#sk-container-id-86 div.sk-parallel-item:first-child::after {align-self: flex-end;width: 50%;}#sk-container-id-86 div.sk-parallel-item:last-child::after {align-self: flex-start;width: 50%;}#sk-container-id-86 div.sk-parallel-item:only-child::after {width: 0;}#sk-container-id-86 div.sk-dashed-wrapped {border: 1px dashed gray;margin: 0 0.4em 0.5em 0.4em;box-sizing: border-box;padding-bottom: 0.4em;background-color: white;}#sk-container-id-86 div.sk-label label {font-family: monospace;font-weight: bold;display: inline-block;line-height: 1.2em;}#sk-container-id-86 div.sk-label-container {text-align: center;}#sk-container-id-86 div.sk-container {/* jupyter's `normalize.less` sets `[hidden] { display: none; }` but bootstrap.min.css set `[hidden] { display: none !important; }` so we also need the `!important` here to be able to override the default hidden behavior on the sphinx rendered scikit-learn.org. See: https://github.com/scikit-learn/scikit-learn/issues/21755 */display: inline-block !important;position: relative;}#sk-container-id-86 div.sk-text-repr-fallback {display: none;}</style><div id=\"sk-container-id-86\" class=\"sk-top-container\"><div class=\"sk-text-repr-fallback\"><pre>RandomizedSearchCV(cv=5, estimator=LinearRegression(), n_iter=50, n_jobs=-1,\n",
       "                   param_distributions={&#x27;copy_X&#x27;: [True, False],\n",
       "                                        &#x27;fit_intercept&#x27;: [True, False],\n",
       "                                        &#x27;n_jobs&#x27;: [-1, 1, 2],\n",
       "                                        &#x27;positive&#x27;: [True, False]})</pre><b>In a Jupyter environment, please rerun this cell to show the HTML representation or trust the notebook. <br />On GitHub, the HTML representation is unable to render, please try loading this page with nbviewer.org.</b></div><div class=\"sk-container\" hidden><div class=\"sk-item sk-dashed-wrapped\"><div class=\"sk-label-container\"><div class=\"sk-label sk-toggleable\"><input class=\"sk-toggleable__control sk-hidden--visually\" id=\"sk-estimator-id-304\" type=\"checkbox\" ><label for=\"sk-estimator-id-304\" class=\"sk-toggleable__label sk-toggleable__label-arrow\">RandomizedSearchCV</label><div class=\"sk-toggleable__content\"><pre>RandomizedSearchCV(cv=5, estimator=LinearRegression(), n_iter=50, n_jobs=-1,\n",
       "                   param_distributions={&#x27;copy_X&#x27;: [True, False],\n",
       "                                        &#x27;fit_intercept&#x27;: [True, False],\n",
       "                                        &#x27;n_jobs&#x27;: [-1, 1, 2],\n",
       "                                        &#x27;positive&#x27;: [True, False]})</pre></div></div></div><div class=\"sk-parallel\"><div class=\"sk-parallel-item\"><div class=\"sk-item\"><div class=\"sk-label-container\"><div class=\"sk-label sk-toggleable\"><input class=\"sk-toggleable__control sk-hidden--visually\" id=\"sk-estimator-id-305\" type=\"checkbox\" ><label for=\"sk-estimator-id-305\" class=\"sk-toggleable__label sk-toggleable__label-arrow\">estimator: LinearRegression</label><div class=\"sk-toggleable__content\"><pre>LinearRegression()</pre></div></div></div><div class=\"sk-serial\"><div class=\"sk-item\"><div class=\"sk-estimator sk-toggleable\"><input class=\"sk-toggleable__control sk-hidden--visually\" id=\"sk-estimator-id-306\" type=\"checkbox\" ><label for=\"sk-estimator-id-306\" class=\"sk-toggleable__label sk-toggleable__label-arrow\">LinearRegression</label><div class=\"sk-toggleable__content\"><pre>LinearRegression()</pre></div></div></div></div></div></div></div></div></div></div>"
      ],
      "text/plain": [
       "RandomizedSearchCV(cv=5, estimator=LinearRegression(), n_iter=50, n_jobs=-1,\n",
       "                   param_distributions={'copy_X': [True, False],\n",
       "                                        'fit_intercept': [True, False],\n",
       "                                        'n_jobs': [-1, 1, 2],\n",
       "                                        'positive': [True, False]})"
      ]
     },
     "execution_count": 1045,
     "metadata": {},
     "output_type": "execute_result"
    }
   ],
   "source": [
    "lr_random_search.fit(X_train_transformed, y_train)"
   ]
  },
  {
   "attachments": {},
   "cell_type": "markdown",
   "metadata": {},
   "source": [
    "The result of performed a `RandomizedSearchCV` with some hyperparameters for Linear Regression. However, `we did not find any improvement` in the model's performance, which suggests that the default hyperparameters of Linear Regression were already optimal for this dataset."
   ]
  },
  {
   "cell_type": "code",
   "execution_count": 1046,
   "metadata": {},
   "outputs": [
    {
     "name": "stdout",
     "output_type": "stream",
     "text": [
      "r2score train =  0.7076271347515374\n",
      "r2score test =  0.6732488065124997\n",
      "Error Train-Set :  0.07194424921400483\n",
      "Error Test-Set  :  0.07920279961127824\n"
     ]
    },
    {
     "data": {
      "image/png": "[encoded data removed]",
      "text/plain": [
       "<Figure size 640x480 with 1 Axes>"
      ]
     },
     "metadata": {},
     "output_type": "display_data"
    }
   ],
   "source": [
    "y_pred_train_rfc = lr_random_search.predict(X_train_transformed)\n",
    "y_pred_test_rfc = lr_random_search.predict(test_tr)\n",
    "print('r2score train = ', r2_score(y_train, y_pred_train_rfc))\n",
    "print('r2score test = ', r2_score(y_test, y_pred_test_rfc))\n",
    "print('Error Train-Set : ', mean_absolute_error(y_train, y_pred_train_rfc))\n",
    "print('Error Test-Set  : ', mean_absolute_error(y_test, y_pred_test_rfc))\n",
    "\n",
    "plt.scatter(y_train, y_pred_train_rfc, color='blue', label='train') \n",
    "plt.scatter(y_test, y_pred_test_rfc, color='red', label='test') \n",
    "plt.legend()\n",
    "plt.show()"
   ]
  },
  {
   "attachments": {},
   "cell_type": "markdown",
   "metadata": {},
   "source": [
    "### GRID SEARCH"
   ]
  },
  {
   "attachments": {},
   "cell_type": "markdown",
   "metadata": {},
   "source": [
    "`Grid search is a technique used for hyperparameter tuning in machine learning`. In this process, we create a grid of all the possible combinations of hyperparameters we want to tune, and then evaluate each combination using cross-validation. In our case, we created a parameter"
   ]
  },
  {
   "cell_type": "code",
   "execution_count": 1059,
   "metadata": {},
   "outputs": [],
   "source": [
    "param_grid = {'fit_intercept': [True, False],\n",
    "              'copy_X': [True],\n",
    "              'n_jobs': [-1]}"
   ]
  },
  {
   "cell_type": "code",
   "execution_count": 1060,
   "metadata": {},
   "outputs": [],
   "source": [
    "lr_grid_search = GridSearchCV(estimator=lr_model, \n",
    "                              param_grid=param_grid,\n",
    "                              cv=5, \n",
    "                              scoring='neg_mean_squared_error')\n"
   ]
  },
  {
   "cell_type": "code",
   "execution_count": 1061,
   "metadata": {},
   "outputs": [
    {
     "data": {
      "text/html": [
       "<style>#sk-container-id-89 {color: black;background-color: white;}#sk-container-id-89 pre{padding: 0;}#sk-container-id-89 div.sk-toggleable {background-color: white;}#sk-container-id-89 label.sk-toggleable__label {cursor: pointer;display: block;width: 100%;margin-bottom: 0;padding: 0.3em;box-sizing: border-box;text-align: center;}#sk-container-id-89 label.sk-toggleable__label-arrow:before {content: \"▸\";float: left;margin-right: 0.25em;color: #696969;}#sk-container-id-89 label.sk-toggleable__label-arrow:hover:before {color: black;}#sk-container-id-89 div.sk-estimator:hover label.sk-toggleable__label-arrow:before {color: black;}#sk-container-id-89 div.sk-toggleable__content {max-height: 0;max-width: 0;overflow: hidden;text-align: left;background-color: #f0f8ff;}#sk-container-id-89 div.sk-toggleable__content pre {margin: 0.2em;color: black;border-radius: 0.25em;background-color: #f0f8ff;}#sk-container-id-89 input.sk-toggleable__control:checked~div.sk-toggleable__content {max-height: 200px;max-width: 100%;overflow: auto;}#sk-container-id-89 input.sk-toggleable__control:checked~label.sk-toggleable__label-arrow:before {content: \"▾\";}#sk-container-id-89 div.sk-estimator input.sk-toggleable__control:checked~label.sk-toggleable__label {background-color: #d4ebff;}#sk-container-id-89 div.sk-label input.sk-toggleable__control:checked~label.sk-toggleable__label {background-color: #d4ebff;}#sk-container-id-89 input.sk-hidden--visually {border: 0;clip: rect(1px 1px 1px 1px);clip: rect(1px, 1px, 1px, 1px);height: 1px;margin: -1px;overflow: hidden;padding: 0;position: absolute;width: 1px;}#sk-container-id-89 div.sk-estimator {font-family: monospace;background-color: #f0f8ff;border: 1px dotted black;border-radius: 0.25em;box-sizing: border-box;margin-bottom: 0.5em;}#sk-container-id-89 div.sk-estimator:hover {background-color: #d4ebff;}#sk-container-id-89 div.sk-parallel-item::after {content: \"\";width: 100%;border-bottom: 1px solid gray;flex-grow: 1;}#sk-container-id-89 div.sk-label:hover label.sk-toggleable__label {background-color: #d4ebff;}#sk-container-id-89 div.sk-serial::before {content: \"\";position: absolute;border-left: 1px solid gray;box-sizing: border-box;top: 0;bottom: 0;left: 50%;z-index: 0;}#sk-container-id-89 div.sk-serial {display: flex;flex-direction: column;align-items: center;background-color: white;padding-right: 0.2em;padding-left: 0.2em;position: relative;}#sk-container-id-89 div.sk-item {position: relative;z-index: 1;}#sk-container-id-89 div.sk-parallel {display: flex;align-items: stretch;justify-content: center;background-color: white;position: relative;}#sk-container-id-89 div.sk-item::before, #sk-container-id-89 div.sk-parallel-item::before {content: \"\";position: absolute;border-left: 1px solid gray;box-sizing: border-box;top: 0;bottom: 0;left: 50%;z-index: -1;}#sk-container-id-89 div.sk-parallel-item {display: flex;flex-direction: column;z-index: 1;position: relative;background-color: white;}#sk-container-id-89 div.sk-parallel-item:first-child::after {align-self: flex-end;width: 50%;}#sk-container-id-89 div.sk-parallel-item:last-child::after {align-self: flex-start;width: 50%;}#sk-container-id-89 div.sk-parallel-item:only-child::after {width: 0;}#sk-container-id-89 div.sk-dashed-wrapped {border: 1px dashed gray;margin: 0 0.4em 0.5em 0.4em;box-sizing: border-box;padding-bottom: 0.4em;background-color: white;}#sk-container-id-89 div.sk-label label {font-family: monospace;font-weight: bold;display: inline-block;line-height: 1.2em;}#sk-container-id-89 div.sk-label-container {text-align: center;}#sk-container-id-89 div.sk-container {/* jupyter's `normalize.less` sets `[hidden] { display: none; }` but bootstrap.min.css set `[hidden] { display: none !important; }` so we also need the `!important` here to be able to override the default hidden behavior on the sphinx rendered scikit-learn.org. See: https://github.com/scikit-learn/scikit-learn/issues/21755 */display: inline-block !important;position: relative;}#sk-container-id-89 div.sk-text-repr-fallback {display: none;}</style><div id=\"sk-container-id-89\" class=\"sk-top-container\"><div class=\"sk-text-repr-fallback\"><pre>GridSearchCV(cv=5, estimator=LinearRegression(),\n",
       "             param_grid={&#x27;copy_X&#x27;: [True], &#x27;fit_intercept&#x27;: [True, False],\n",
       "                         &#x27;n_jobs&#x27;: [-1]},\n",
       "             scoring=&#x27;neg_mean_squared_error&#x27;)</pre><b>In a Jupyter environment, please rerun this cell to show the HTML representation or trust the notebook. <br />On GitHub, the HTML representation is unable to render, please try loading this page with nbviewer.org.</b></div><div class=\"sk-container\" hidden><div class=\"sk-item sk-dashed-wrapped\"><div class=\"sk-label-container\"><div class=\"sk-label sk-toggleable\"><input class=\"sk-toggleable__control sk-hidden--visually\" id=\"sk-estimator-id-319\" type=\"checkbox\" ><label for=\"sk-estimator-id-319\" class=\"sk-toggleable__label sk-toggleable__label-arrow\">GridSearchCV</label><div class=\"sk-toggleable__content\"><pre>GridSearchCV(cv=5, estimator=LinearRegression(),\n",
       "             param_grid={&#x27;copy_X&#x27;: [True], &#x27;fit_intercept&#x27;: [True, False],\n",
       "                         &#x27;n_jobs&#x27;: [-1]},\n",
       "             scoring=&#x27;neg_mean_squared_error&#x27;)</pre></div></div></div><div class=\"sk-parallel\"><div class=\"sk-parallel-item\"><div class=\"sk-item\"><div class=\"sk-label-container\"><div class=\"sk-label sk-toggleable\"><input class=\"sk-toggleable__control sk-hidden--visually\" id=\"sk-estimator-id-320\" type=\"checkbox\" ><label for=\"sk-estimator-id-320\" class=\"sk-toggleable__label sk-toggleable__label-arrow\">estimator: LinearRegression</label><div class=\"sk-toggleable__content\"><pre>LinearRegression()</pre></div></div></div><div class=\"sk-serial\"><div class=\"sk-item\"><div class=\"sk-estimator sk-toggleable\"><input class=\"sk-toggleable__control sk-hidden--visually\" id=\"sk-estimator-id-321\" type=\"checkbox\" ><label for=\"sk-estimator-id-321\" class=\"sk-toggleable__label sk-toggleable__label-arrow\">LinearRegression</label><div class=\"sk-toggleable__content\"><pre>LinearRegression()</pre></div></div></div></div></div></div></div></div></div></div>"
      ],
      "text/plain": [
       "GridSearchCV(cv=5, estimator=LinearRegression(),\n",
       "             param_grid={'copy_X': [True], 'fit_intercept': [True, False],\n",
       "                         'n_jobs': [-1]},\n",
       "             scoring='neg_mean_squared_error')"
      ]
     },
     "execution_count": 1061,
     "metadata": {},
     "output_type": "execute_result"
    }
   ],
   "source": [
    "lr_grid_search.fit(X_train_transformed, y_train)"
   ]
  },
  {
   "attachments": {},
   "cell_type": "markdown",
   "metadata": {},
   "source": [
    "The result of performed a GridSearchCV with some `hyperparameters for Linear Regression`. However, `we did not find any improvement in the model's performance,` which suggests that the default hyperparameters of Linear Regression were already optimal for this dataset."
   ]
  },
  {
   "cell_type": "code",
   "execution_count": 1062,
   "metadata": {},
   "outputs": [
    {
     "name": "stdout",
     "output_type": "stream",
     "text": [
      "r2score train =  0.7076271347515374\n",
      "r2score test =  0.6732488065124997\n",
      "Error Train-Set :  0.07194424921400483\n",
      "Error Test-Set  :  0.07920279961127824\n"
     ]
    },
    {
     "data": {
      "image/png": "[encoded data removed]",
      "text/plain": [
       "<Figure size 640x480 with 1 Axes>"
      ]
     },
     "metadata": {},
     "output_type": "display_data"
    }
   ],
   "source": [
    "y_pred_train_gs = lr_grid_search.predict(X_train_transformed)\n",
    "y_pred_test_gs = lr_grid_search.predict(test_tr)\n",
    "print('r2score train = ', r2_score(y_train, y_pred_train_gs))\n",
    "print('r2score test = ', r2_score(y_test, y_pred_test_gs))\n",
    "print('Error Train-Set : ', mean_absolute_error(y_train, y_pred_train_gs))\n",
    "print('Error Test-Set  : ', mean_absolute_error(y_test, y_pred_test_gs))\n",
    "\n",
    "plt.scatter(y_train, y_pred_train_gs, color='blue', label='train') \n",
    "plt.scatter(y_test, y_pred_test_gs, color='red', label='test') \n",
    "plt.legend()\n",
    "plt.show()"
   ]
  },
  {
   "attachments": {},
   "cell_type": "markdown",
   "metadata": {},
   "source": [
    "# COMBINE MODEL WITH PIPELINE"
   ]
  },
  {
   "cell_type": "code",
   "execution_count": 1063,
   "metadata": {},
   "outputs": [],
   "source": [
    "all_process = Pipeline([\n",
    "    (\"preprocess\", preprocessor),\n",
    "    (\"classification\", lr_random_search)\n",
    "])\n",
    "\n",
    "all_process.fit(x_train, y_train)\n",
    "hasil = all_process.predict(x_test)"
   ]
  },
  {
   "cell_type": "code",
   "execution_count": 1064,
   "metadata": {},
   "outputs": [
    {
     "data": {
      "text/html": [
       "<style>#sk-container-id-90 {color: black;background-color: white;}#sk-container-id-90 pre{padding: 0;}#sk-container-id-90 div.sk-toggleable {background-color: white;}#sk-container-id-90 label.sk-toggleable__label {cursor: pointer;display: block;width: 100%;margin-bottom: 0;padding: 0.3em;box-sizing: border-box;text-align: center;}#sk-container-id-90 label.sk-toggleable__label-arrow:before {content: \"▸\";float: left;margin-right: 0.25em;color: #696969;}#sk-container-id-90 label.sk-toggleable__label-arrow:hover:before {color: black;}#sk-container-id-90 div.sk-estimator:hover label.sk-toggleable__label-arrow:before {color: black;}#sk-container-id-90 div.sk-toggleable__content {max-height: 0;max-width: 0;overflow: hidden;text-align: left;background-color: #f0f8ff;}#sk-container-id-90 div.sk-toggleable__content pre {margin: 0.2em;color: black;border-radius: 0.25em;background-color: #f0f8ff;}#sk-container-id-90 input.sk-toggleable__control:checked~div.sk-toggleable__content {max-height: 200px;max-width: 100%;overflow: auto;}#sk-container-id-90 input.sk-toggleable__control:checked~label.sk-toggleable__label-arrow:before {content: \"▾\";}#sk-container-id-90 div.sk-estimator input.sk-toggleable__control:checked~label.sk-toggleable__label {background-color: #d4ebff;}#sk-container-id-90 div.sk-label input.sk-toggleable__control:checked~label.sk-toggleable__label {background-color: #d4ebff;}#sk-container-id-90 input.sk-hidden--visually {border: 0;clip: rect(1px 1px 1px 1px);clip: rect(1px, 1px, 1px, 1px);height: 1px;margin: -1px;overflow: hidden;padding: 0;position: absolute;width: 1px;}#sk-container-id-90 div.sk-estimator {font-family: monospace;background-color: #f0f8ff;border: 1px dotted black;border-radius: 0.25em;box-sizing: border-box;margin-bottom: 0.5em;}#sk-container-id-90 div.sk-estimator:hover {background-color: #d4ebff;}#sk-container-id-90 div.sk-parallel-item::after {content: \"\";width: 100%;border-bottom: 1px solid gray;flex-grow: 1;}#sk-container-id-90 div.sk-label:hover label.sk-toggleable__label {background-color: #d4ebff;}#sk-container-id-90 div.sk-serial::before {content: \"\";position: absolute;border-left: 1px solid gray;box-sizing: border-box;top: 0;bottom: 0;left: 50%;z-index: 0;}#sk-container-id-90 div.sk-serial {display: flex;flex-direction: column;align-items: center;background-color: white;padding-right: 0.2em;padding-left: 0.2em;position: relative;}#sk-container-id-90 div.sk-item {position: relative;z-index: 1;}#sk-container-id-90 div.sk-parallel {display: flex;align-items: stretch;justify-content: center;background-color: white;position: relative;}#sk-container-id-90 div.sk-item::before, #sk-container-id-90 div.sk-parallel-item::before {content: \"\";position: absolute;border-left: 1px solid gray;box-sizing: border-box;top: 0;bottom: 0;left: 50%;z-index: -1;}#sk-container-id-90 div.sk-parallel-item {display: flex;flex-direction: column;z-index: 1;position: relative;background-color: white;}#sk-container-id-90 div.sk-parallel-item:first-child::after {align-self: flex-end;width: 50%;}#sk-container-id-90 div.sk-parallel-item:last-child::after {align-self: flex-start;width: 50%;}#sk-container-id-90 div.sk-parallel-item:only-child::after {width: 0;}#sk-container-id-90 div.sk-dashed-wrapped {border: 1px dashed gray;margin: 0 0.4em 0.5em 0.4em;box-sizing: border-box;padding-bottom: 0.4em;background-color: white;}#sk-container-id-90 div.sk-label label {font-family: monospace;font-weight: bold;display: inline-block;line-height: 1.2em;}#sk-container-id-90 div.sk-label-container {text-align: center;}#sk-container-id-90 div.sk-container {/* jupyter's `normalize.less` sets `[hidden] { display: none; }` but bootstrap.min.css set `[hidden] { display: none !important; }` so we also need the `!important` here to be able to override the default hidden behavior on the sphinx rendered scikit-learn.org. See: https://github.com/scikit-learn/scikit-learn/issues/21755 */display: inline-block !important;position: relative;}#sk-container-id-90 div.sk-text-repr-fallback {display: none;}</style><div id=\"sk-container-id-90\" class=\"sk-top-container\"><div class=\"sk-text-repr-fallback\"><pre>Pipeline(steps=[(&#x27;preprocess&#x27;,\n",
       "                 ColumnTransformer(transformers=[(&#x27;encoder&#x27;,\n",
       "                                                  Pipeline(steps=[(&#x27;encoder&#x27;,\n",
       "                                                                   OrdinalEncoder())]),\n",
       "                                                  [&#x27;sample_type&#x27;]),\n",
       "                                                 (&#x27;encoder2&#x27;,\n",
       "                                                  Pipeline(steps=[(&#x27;scaler&#x27;,\n",
       "                                                                   StandardScaler())]),\n",
       "                                                  [&#x27;v1&#x27;, &#x27;v2&#x27;, &#x27;v3&#x27;, &#x27;v4&#x27;, &#x27;v5&#x27;,\n",
       "                                                   &#x27;v6&#x27;, &#x27;v7&#x27;, &#x27;v8&#x27;])])),\n",
       "                (&#x27;classification&#x27;,\n",
       "                 RandomizedSearchCV(cv=5, estimator=LinearRegression(),\n",
       "                                    n_iter=50, n_jobs=-1,\n",
       "                                    param_distributions={&#x27;copy_X&#x27;: [True,\n",
       "                                                                    False],\n",
       "                                                         &#x27;fit_intercept&#x27;: [True,\n",
       "                                                                           False],\n",
       "                                                         &#x27;n_jobs&#x27;: [-1, 1, 2],\n",
       "                                                         &#x27;positive&#x27;: [True,\n",
       "                                                                      False]}))])</pre><b>In a Jupyter environment, please rerun this cell to show the HTML representation or trust the notebook. <br />On GitHub, the HTML representation is unable to render, please try loading this page with nbviewer.org.</b></div><div class=\"sk-container\" hidden><div class=\"sk-item sk-dashed-wrapped\"><div class=\"sk-label-container\"><div class=\"sk-label sk-toggleable\"><input class=\"sk-toggleable__control sk-hidden--visually\" id=\"sk-estimator-id-322\" type=\"checkbox\" ><label for=\"sk-estimator-id-322\" class=\"sk-toggleable__label sk-toggleable__label-arrow\">Pipeline</label><div class=\"sk-toggleable__content\"><pre>Pipeline(steps=[(&#x27;preprocess&#x27;,\n",
       "                 ColumnTransformer(transformers=[(&#x27;encoder&#x27;,\n",
       "                                                  Pipeline(steps=[(&#x27;encoder&#x27;,\n",
       "                                                                   OrdinalEncoder())]),\n",
       "                                                  [&#x27;sample_type&#x27;]),\n",
       "                                                 (&#x27;encoder2&#x27;,\n",
       "                                                  Pipeline(steps=[(&#x27;scaler&#x27;,\n",
       "                                                                   StandardScaler())]),\n",
       "                                                  [&#x27;v1&#x27;, &#x27;v2&#x27;, &#x27;v3&#x27;, &#x27;v4&#x27;, &#x27;v5&#x27;,\n",
       "                                                   &#x27;v6&#x27;, &#x27;v7&#x27;, &#x27;v8&#x27;])])),\n",
       "                (&#x27;classification&#x27;,\n",
       "                 RandomizedSearchCV(cv=5, estimator=LinearRegression(),\n",
       "                                    n_iter=50, n_jobs=-1,\n",
       "                                    param_distributions={&#x27;copy_X&#x27;: [True,\n",
       "                                                                    False],\n",
       "                                                         &#x27;fit_intercept&#x27;: [True,\n",
       "                                                                           False],\n",
       "                                                         &#x27;n_jobs&#x27;: [-1, 1, 2],\n",
       "                                                         &#x27;positive&#x27;: [True,\n",
       "                                                                      False]}))])</pre></div></div></div><div class=\"sk-serial\"><div class=\"sk-item sk-dashed-wrapped\"><div class=\"sk-label-container\"><div class=\"sk-label sk-toggleable\"><input class=\"sk-toggleable__control sk-hidden--visually\" id=\"sk-estimator-id-323\" type=\"checkbox\" ><label for=\"sk-estimator-id-323\" class=\"sk-toggleable__label sk-toggleable__label-arrow\">preprocess: ColumnTransformer</label><div class=\"sk-toggleable__content\"><pre>ColumnTransformer(transformers=[(&#x27;encoder&#x27;,\n",
       "                                 Pipeline(steps=[(&#x27;encoder&#x27;,\n",
       "                                                  OrdinalEncoder())]),\n",
       "                                 [&#x27;sample_type&#x27;]),\n",
       "                                (&#x27;encoder2&#x27;,\n",
       "                                 Pipeline(steps=[(&#x27;scaler&#x27;, StandardScaler())]),\n",
       "                                 [&#x27;v1&#x27;, &#x27;v2&#x27;, &#x27;v3&#x27;, &#x27;v4&#x27;, &#x27;v5&#x27;, &#x27;v6&#x27;, &#x27;v7&#x27;,\n",
       "                                  &#x27;v8&#x27;])])</pre></div></div></div><div class=\"sk-parallel\"><div class=\"sk-parallel-item\"><div class=\"sk-item\"><div class=\"sk-label-container\"><div class=\"sk-label sk-toggleable\"><input class=\"sk-toggleable__control sk-hidden--visually\" id=\"sk-estimator-id-324\" type=\"checkbox\" ><label for=\"sk-estimator-id-324\" class=\"sk-toggleable__label sk-toggleable__label-arrow\">encoder</label><div class=\"sk-toggleable__content\"><pre>[&#x27;sample_type&#x27;]</pre></div></div></div><div class=\"sk-serial\"><div class=\"sk-item\"><div class=\"sk-serial\"><div class=\"sk-item\"><div class=\"sk-estimator sk-toggleable\"><input class=\"sk-toggleable__control sk-hidden--visually\" id=\"sk-estimator-id-325\" type=\"checkbox\" ><label for=\"sk-estimator-id-325\" class=\"sk-toggleable__label sk-toggleable__label-arrow\">OrdinalEncoder</label><div class=\"sk-toggleable__content\"><pre>OrdinalEncoder()</pre></div></div></div></div></div></div></div></div><div class=\"sk-parallel-item\"><div class=\"sk-item\"><div class=\"sk-label-container\"><div class=\"sk-label sk-toggleable\"><input class=\"sk-toggleable__control sk-hidden--visually\" id=\"sk-estimator-id-326\" type=\"checkbox\" ><label for=\"sk-estimator-id-326\" class=\"sk-toggleable__label sk-toggleable__label-arrow\">encoder2</label><div class=\"sk-toggleable__content\"><pre>[&#x27;v1&#x27;, &#x27;v2&#x27;, &#x27;v3&#x27;, &#x27;v4&#x27;, &#x27;v5&#x27;, &#x27;v6&#x27;, &#x27;v7&#x27;, &#x27;v8&#x27;]</pre></div></div></div><div class=\"sk-serial\"><div class=\"sk-item\"><div class=\"sk-serial\"><div class=\"sk-item\"><div class=\"sk-estimator sk-toggleable\"><input class=\"sk-toggleable__control sk-hidden--visually\" id=\"sk-estimator-id-327\" type=\"checkbox\" ><label for=\"sk-estimator-id-327\" class=\"sk-toggleable__label sk-toggleable__label-arrow\">StandardScaler</label><div class=\"sk-toggleable__content\"><pre>StandardScaler()</pre></div></div></div></div></div></div></div></div></div></div><div class=\"sk-item sk-dashed-wrapped\"><div class=\"sk-label-container\"><div class=\"sk-label sk-toggleable\"><input class=\"sk-toggleable__control sk-hidden--visually\" id=\"sk-estimator-id-328\" type=\"checkbox\" ><label for=\"sk-estimator-id-328\" class=\"sk-toggleable__label sk-toggleable__label-arrow\">classification: RandomizedSearchCV</label><div class=\"sk-toggleable__content\"><pre>RandomizedSearchCV(cv=5, estimator=LinearRegression(), n_iter=50, n_jobs=-1,\n",
       "                   param_distributions={&#x27;copy_X&#x27;: [True, False],\n",
       "                                        &#x27;fit_intercept&#x27;: [True, False],\n",
       "                                        &#x27;n_jobs&#x27;: [-1, 1, 2],\n",
       "                                        &#x27;positive&#x27;: [True, False]})</pre></div></div></div><div class=\"sk-parallel\"><div class=\"sk-parallel-item\"><div class=\"sk-item\"><div class=\"sk-label-container\"><div class=\"sk-label sk-toggleable\"><input class=\"sk-toggleable__control sk-hidden--visually\" id=\"sk-estimator-id-329\" type=\"checkbox\" ><label for=\"sk-estimator-id-329\" class=\"sk-toggleable__label sk-toggleable__label-arrow\">estimator: LinearRegression</label><div class=\"sk-toggleable__content\"><pre>LinearRegression()</pre></div></div></div><div class=\"sk-serial\"><div class=\"sk-item\"><div class=\"sk-estimator sk-toggleable\"><input class=\"sk-toggleable__control sk-hidden--visually\" id=\"sk-estimator-id-330\" type=\"checkbox\" ><label for=\"sk-estimator-id-330\" class=\"sk-toggleable__label sk-toggleable__label-arrow\">LinearRegression</label><div class=\"sk-toggleable__content\"><pre>LinearRegression()</pre></div></div></div></div></div></div></div></div></div></div></div></div>"
      ],
      "text/plain": [
       "Pipeline(steps=[('preprocess',\n",
       "                 ColumnTransformer(transformers=[('encoder',\n",
       "                                                  Pipeline(steps=[('encoder',\n",
       "                                                                   OrdinalEncoder())]),\n",
       "                                                  ['sample_type']),\n",
       "                                                 ('encoder2',\n",
       "                                                  Pipeline(steps=[('scaler',\n",
       "                                                                   StandardScaler())]),\n",
       "                                                  ['v1', 'v2', 'v3', 'v4', 'v5',\n",
       "                                                   'v6', 'v7', 'v8'])])),\n",
       "                ('classification',\n",
       "                 RandomizedSearchCV(cv=5, estimator=LinearRegression(),\n",
       "                                    n_iter=50, n_jobs=-1,\n",
       "                                    param_distributions={'copy_X': [True,\n",
       "                                                                    False],\n",
       "                                                         'fit_intercept': [True,\n",
       "                                                                           False],\n",
       "                                                         'n_jobs': [-1, 1, 2],\n",
       "                                                         'positive': [True,\n",
       "                                                                      False]}))])"
      ]
     },
     "execution_count": 1064,
     "metadata": {},
     "output_type": "execute_result"
    }
   ],
   "source": [
    "all_process"
   ]
  },
  {
   "cell_type": "code",
   "execution_count": 1065,
   "metadata": {},
   "outputs": [
    {
     "name": "stdout",
     "output_type": "stream",
     "text": [
      "r2score test =  0.7053409677880748\n"
     ]
    }
   ],
   "source": [
    "hasil = all_process.predict(x_test)\n",
    "print('r2score test = ', r2_score(y_test, hasil))"
   ]
  },
  {
   "attachments": {},
   "cell_type": "markdown",
   "metadata": {},
   "source": [
    "# OVERALL CONCLUSION"
   ]
  },
  {
   "attachments": {},
   "cell_type": "markdown",
   "metadata": {},
   "source": [
    "Based on the analysis we have conducted, we found a strong correlation between the target variable and the features `v1-v8` and the `sample_type` feature, which indicates that the nutritional content of plants is related to the lab from which the data is collected. We also conducted a phi-k correlation analysis to identify the strength of the correlation between the target variable and the features. The results showed that the features `v1-v8 and sample_type` have a strong correlation with the target variable. \n",
    "\n",
    "Based on the analysis we performed, the best model for predicting the price of the house is the `linear regression` model. The model achieved an R2 score of `0.707` on the training set and `0.673` on the test set, indicating that it can explain `70.7%` of the variance in the training set and `67.3%` of the variance in the test set.\n",
    "\n",
    "We also performed a `RandomizedSearchCV and GridSearchCV` to tune the hyperparameters of the linear regression model. However, both methods `did not result in a better model than the original one`. Therefore, we recommend using the default hyperparameters for the linear regression model.\n",
    "\n",
    "Both RandomizedSearchCV and GridSearchCV were used to tune the hyperparameters of the Linear Regression model. However, the RandomizedSearchCV was applied first with a larger search space, and then the GridSearchCV was applied with a smaller search space around the best parameters found by RandomizedSearchCV. However, the performance of the tuned models did not improve compared to the original model,` which suggests that Linear Regression might not be the best model for this dataset or that the dataset might need more feature engineering to improve the model performance.`\n",
    "\n",
    "`It is important to note that the analysis was based on the assumption that the data provided was manipulated. If the data is not manipulated, the results and conclusions we drew may not be accurate or reliable.`"
   ]
  },
  {
   "attachments": {},
   "cell_type": "markdown",
   "metadata": {},
   "source": [
    "# SAVE MODEL"
   ]
  },
  {
   "cell_type": "code",
   "execution_count": 1069,
   "metadata": {},
   "outputs": [],
   "source": [
    "with open('all_process', 'wb') as file_1:\n",
    "  joblib.dump(all_process, file_1)"
   ]
  }
 ],
 "metadata": {
  "kernelspec": {
   "display_name": "tensorflow",
   "language": "python",
   "name": "python3"
  },
  "language_info": {
   "codemirror_mode": {
    "name": "ipython",
    "version": 3
   },
   "file_extension": ".py",
   "mimetype": "text/x-python",
   "name": "python",
   "nbconvert_exporter": "python",
   "pygments_lexer": "ipython3",
   "version": "3.10.9"
  },
  "orig_nbformat": 4,
  "vscode": {
   "interpreter": {
    "hash": "73a20ee111e202b5885bf4967c631ad33e4dd2fc605a280f260d1da0f02a6410"
   }
  }
 },
 "nbformat": 4,
 "nbformat_minor": 2
}
